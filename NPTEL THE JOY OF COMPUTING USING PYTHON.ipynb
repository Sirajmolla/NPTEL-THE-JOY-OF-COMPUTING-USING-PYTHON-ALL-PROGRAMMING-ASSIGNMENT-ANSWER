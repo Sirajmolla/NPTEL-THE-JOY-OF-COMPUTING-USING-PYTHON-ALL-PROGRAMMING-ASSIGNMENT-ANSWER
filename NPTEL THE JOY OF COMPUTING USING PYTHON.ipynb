{
 "cells": [
  {
   "cell_type": "code",
   "execution_count": 1,
   "metadata": {},
   "outputs": [
    {
     "name": "stdout",
     "output_type": "stream",
     "text": [
      "4 2\n",
      "6"
     ]
    }
   ],
   "source": [
    "\"\"\"Programming Assignments-1: Addition\n",
    "In this assignment, you will have to take two numbers (integers) as input and print the addition.\n",
    "\n",
    "Input Format:\n",
    "\n",
    "The first line of the input contains two numbers separated by a space.\n",
    "\n",
    "Output Format:\n",
    "\n",
    "Print the addition in single line\n",
    "\n",
    "Example:\n",
    "\n",
    "Input:\n",
    "4 2\n",
    "\n",
    "Output:\n",
    "6\n",
    "\n",
    "Explanation:\n",
    "Since the addition of numbers 4 and 2 is 6, hence the output is 6.\n",
    "\"\"\"\n",
    "a,b=input().split()\n",
    "c=int(a)+int(b)\n",
    "print(c,end=\"\")\n"
   ]
  },
  {
   "cell_type": "code",
   "execution_count": 2,
   "metadata": {},
   "outputs": [
    {
     "name": "stdout",
     "output_type": "stream",
     "text": [
      "2 3\n",
      "2\n"
     ]
    }
   ],
   "source": [
    "\"\"\"Programming Assignment-2: Small\n",
    "Given two numbers (integers) as input, print the smaller number.\n",
    "\n",
    "Input Format:\n",
    "The first line of input contains two numbers separated by a space\n",
    "\n",
    "Output Format:\n",
    "Print the smaller number\n",
    "\n",
    "Example:\n",
    "\n",
    "Input:\n",
    "2 3\n",
    "\n",
    "Output:\n",
    "2 \"\"\"\n",
    "x,y = input().split(\" \")\n",
    "x = int(x)\n",
    "y = int(y)\n",
    "\n",
    "if(x<y):\n",
    "    print(x)\n",
    "else:\n",
    "    print(y)"
   ]
  },
  {
   "cell_type": "code",
   "execution_count": 3,
   "metadata": {},
   "outputs": [
    {
     "name": "stdout",
     "output_type": "stream",
     "text": [
      "4\n",
      "2 5 3 1\n",
      "3 8 8 3\n"
     ]
    }
   ],
   "source": [
    "\"\"\"Programming Assignment-3: Loops ,List and Sum\n",
    "Due on 2019-08-22, 23:59 IST\n",
    "You all have seen how to write loops in python. Now is the time to implement what you have learned.\n",
    "\n",
    "Given an array A of N numbers (integers), you have to write a program which prints the sum of the elements of array A with the corresponding elements of the reverse of array A.\n",
    "If array A has elements [1,2,3], then reverse of the array A will be [3,2,1] and the resultant array should be [4,4,4].\n",
    "\n",
    "Input Format:\n",
    "\n",
    "The first line of the input contains a number N representing the number of elements in array A.\n",
    "The second line of the input contains N numbers separated by a space. (after the last elements, there is no space)\n",
    "\n",
    "Output Format:\n",
    "\n",
    "Print the resultant array elements separated by a space. (no space after the last element)\n",
    "\n",
    "Example:\n",
    "\n",
    "Input:\n",
    "4\n",
    "2 5 3 1\n",
    "\n",
    "Output:\n",
    "3 8 8 3\n",
    "\n",
    "Explanation:\n",
    "Here array A is [2,5,3,1] and reverse of this array is [1,3,5,2] and hence the resultant array is [3,8,8,3]\n",
    "\"\"\"\n",
    "N = int(input())\n",
    "A = [int(i) for i in input().split(\" \")]\n",
    "B = []\n",
    "for i in range(len(A)-1, -1,-1):\n",
    "    B.append(A[i])\n",
    "C = []\n",
    "for i in range(len(B)):\n",
    "    C.append(A[i]+B[i])\n",
    "for i in range(len(C)):\n",
    "    if(i==len(C)-1):\n",
    "        print(C[i])\n",
    "    else:\n",
    "        print(C[i],end=\" \")"
   ]
  },
  {
   "cell_type": "code",
   "execution_count": 4,
   "metadata": {},
   "outputs": [
    {
     "name": "stdout",
     "output_type": "stream",
     "text": [
      "1 2 3 4 5\n",
      "4 2\n"
     ]
    }
   ],
   "source": [
    "\"\"\"\n",
    "Programming Assignment-1: Max and Min\n",
    "\n",
    "Given a list of numbers (integers), find second maximum and second minimum in this list.\n",
    "\n",
    "Input Format:\n",
    "\n",
    "The first line contains numbers separated by a space.\n",
    "\n",
    "Output Format:\n",
    "\n",
    "Print second maximum and second minimum separated by a space\n",
    "\n",
    "Example:\n",
    "\n",
    "Input:\n",
    "\n",
    "1 2 3 4 5\n",
    "\n",
    "Output:\n",
    "\n",
    "4 2\n",
    "\"\"\"\n",
    "\n",
    "a = [int(x) for x in input().split()]\n",
    "\n",
    "a.sort() #this command sorts the list in ascending order\n",
    "\n",
    "print(a[-2],a[1])"
   ]
  },
  {
   "cell_type": "code",
   "execution_count": 5,
   "metadata": {},
   "outputs": [
    {
     "name": "stdout",
     "output_type": "stream",
     "text": [
      "1 2 3 4 5 6 5\n",
      "1 2 3 4 6"
     ]
    }
   ],
   "source": [
    "\"\"\"\n",
    "Programming Assignment-2: Multiple of 5\n",
    "\n",
    "Given a list A of numbers (integers), you have to print those numbers which are not multiples of 5.\n",
    "\n",
    "Input Format:\n",
    "\n",
    "The first line contains the numbers of list A separated by a space.\n",
    "\n",
    "Output Format:\n",
    "\n",
    "Print the numbers in a single line separated by a space which are not multiples of 5.\n",
    "\n",
    "Example:\n",
    "\n",
    "Input:\n",
    "\n",
    "1 2 3 4 5 6 5\n",
    "\n",
    "Output:\n",
    "\n",
    "1 2 3 4 6\n",
    "\n",
    "Explanation:\n",
    "Here the elements of A are 1,2,3,4,5,6,5 and since 5 is the multiple of 5, after removing them the list becomes 1,2,3,4,6.\n",
    "\"\"\"\n",
    "list1=list(map(int,input().split()))\n",
    "list2= []\n",
    "for i in list1:\n",
    "  if i%5!=0:\n",
    "    list2.append(i)\n",
    "print(*list2,end=\"\")"
   ]
  },
  {
   "cell_type": "code",
   "execution_count": 6,
   "metadata": {},
   "outputs": [
    {
     "name": "stdout",
     "output_type": "stream",
     "text": [
      "1 2 3 4 5 6 5\n",
      "1 2 3 4 6"
     ]
    }
   ],
   "source": [
    "a = [int(x) for x in input().split()]\n",
    "\n",
    "b = []\n",
    "\n",
    "for i in a:\n",
    "    if(i%5!=0):\n",
    "        b.append(i)\n",
    "\n",
    "for i in range(len(b)):\n",
    "    if(i==len(b)-1):\n",
    "        print(b[i],end=\"\")\n",
    "    else:\n",
    "        print(b[i],end=\" \")"
   ]
  },
  {
   "cell_type": "code",
   "execution_count": 7,
   "metadata": {},
   "outputs": [
    {
     "name": "stdout",
     "output_type": "stream",
     "text": [
      "101\n",
      "YES"
     ]
    }
   ],
   "source": [
    "\"\"\"\n",
    "Programming Assignment-3: Digits\n",
    "\n",
    "You are given a number A which contains only digits 0's and 1's. Your task is to make all digits same by just flipping one digit (i.e. 0 to 1 or 1 to 0 ) only. If it is possible to make all the  digits same by just flipping one digit then print 'YES' else print 'NO'.\n",
    "\n",
    "Input Format:\n",
    "\n",
    "The first line contains a number made up of 0's and 1's.\n",
    "\n",
    "Output Format:\n",
    "\n",
    "Print 'YES' or 'NO' accordingly without quotes.\n",
    "\n",
    "Example:\n",
    "\n",
    "Input:\n",
    "\n",
    "101\n",
    "\n",
    "Output:\n",
    "YES\n",
    "\n",
    "Explanation: \n",
    "If you flip the middle digit from 0 to 1 then all the digits will become same. Hence output is YES.\n",
    "\"\"\"\n",
    "list1=input()\n",
    "#print(list1)\n",
    "x=list1.count('1')\n",
    "y=list1.count('0')\n",
    "l=len(list1)\n",
    "#print(x,y,l)\n",
    "if x==l-1 and y==1:\n",
    "  print(\"YES\",end='')\n",
    "elif x==1 and y==l-1:\n",
    "  print(\"YES\",end=\"\")\n",
    "else:\n",
    "  print(\"NO\",end=\"\")"
   ]
  },
  {
   "cell_type": "code",
   "execution_count": 8,
   "metadata": {},
   "outputs": [
    {
     "name": "stdout",
     "output_type": "stream",
     "text": [
      "101\n",
      "YES\n"
     ]
    }
   ],
   "source": [
    "A = input()\n",
    "ls = []\n",
    "li = str(A)\n",
    "for j in li:\n",
    "    ls.append(int(j))\n",
    "count_z = 0\n",
    "count_o = 0\n",
    "for k in ls:\n",
    "    if(k==1):\n",
    "        count_o += 1\n",
    "    if(k==0):\n",
    "        count_z += 1\n",
    "\n",
    "if((count_o == 1) or (count_z == 1)):\n",
    "    print(\"YES\")\n",
    "\n",
    "else:\n",
    "    if((count_o == 0) or (count_z == 0)):\n",
    "        print(\"NO\")\n",
    "    else:\n",
    "        print(\"NO\")"
   ]
  },
  {
   "cell_type": "code",
   "execution_count": 9,
   "metadata": {},
   "outputs": [
    {
     "name": "stdout",
     "output_type": "stream",
     "text": [
      "4\n",
      "24"
     ]
    }
   ],
   "source": [
    "\"\"\"\n",
    "Programming Assignment-1: Factorial\n",
    "\n",
    "Given an integer number n, you have to print the factorial of this number. To know about factorial please click on this link.\n",
    "\n",
    "Input Format:\n",
    "\n",
    "A number n.\n",
    "\n",
    "Output Format:\n",
    "\n",
    "Print the factorial of n.\n",
    "\n",
    "Example:\n",
    "\n",
    "Input:\n",
    "4\n",
    "\n",
    "Output:\n",
    "24\n",
    "\"\"\"\n",
    "n=input()\n",
    "num=int(n)\n",
    "factorial=1\n",
    "if num==0:\n",
    "  print(\"The factorial of 0 is 1\")\n",
    "else:\n",
    "  for i in range(1,num+1):\n",
    "    factorial=factorial*i\n",
    "  print(factorial,end=\"\")"
   ]
  },
  {
   "cell_type": "code",
   "execution_count": 10,
   "metadata": {},
   "outputs": [
    {
     "name": "stdout",
     "output_type": "stream",
     "text": [
      "4\n",
      "24\n"
     ]
    }
   ],
   "source": [
    "k = int(input())\n",
    "\n",
    "fac = 1\n",
    "for i in range(1,k+1):\n",
    "    if(k==0):\n",
    "        break\n",
    "    fac=fac*i\n",
    "\n",
    "print(fac)"
   ]
  },
  {
   "cell_type": "code",
   "execution_count": 11,
   "metadata": {},
   "outputs": [
    {
     "name": "stdout",
     "output_type": "stream",
     "text": [
      "3 3\n",
      "1 2 3\n",
      "4 5 6\n",
      "7 8 9"
     ]
    }
   ],
   "source": [
    "\"\"\"\n",
    "Programming Assignment-2: Matrix\n",
    "\n",
    "You are provided with the number of rows (R) and columns (C). \n",
    "Your task is to generate the matrix having R rows and C columns such that all the numbers are in \n",
    "increasing order starting from 1 in row wise manner.\n",
    "\n",
    "Input Format:\n",
    "The first line contain two numbers R and C separated by a space.\n",
    "\n",
    "Output Format:\n",
    "Print the elements of the matrix with each row in a new line and elements of each row are separated by a space.\n",
    "\n",
    "NOTE: There should not be any space after the last element of each row and no new line after the last row.\n",
    "\n",
    "Example:\n",
    "\n",
    "Input:\n",
    "3 3\n",
    "\n",
    "Output:\n",
    "1 2 3\n",
    "4 5 6\n",
    "7 8 9\n",
    "\n",
    "Explanation: \n",
    "Starting from the first row, the numbers are present in the increasing order. \n",
    "Since it's a 3X3 matrix, the numbers are from 1 to 9.\n",
    "\"\"\"\n",
    "r,c=input().split(\" \")\n",
    "r=int(r)\n",
    "c=int(c)\n",
    "mat=[[0 for i in range(c)]for j in range(r)]\n",
    "val=1\n",
    "for i in range(r):\n",
    "  for j in range(c):\n",
    "    mat[i][j]=val\n",
    "    val=val+1\n",
    "for i in range(r):\n",
    "  for j in range(c):\n",
    "    if j!=(c-1):\n",
    "      print(mat[i][j],end=\" \")\n",
    "    else:\n",
    "      print(mat[i][j],end=\"\")\n",
    "  if i!=(r-1):\n",
    "    print()"
   ]
  },
  {
   "cell_type": "code",
   "execution_count": 12,
   "metadata": {},
   "outputs": [
    {
     "name": "stdout",
     "output_type": "stream",
     "text": [
      "3 3\n",
      "1 2 3\n",
      "4 5 6\n",
      "7 8 9"
     ]
    }
   ],
   "source": [
    "a,b=map(int,input().split())\n",
    "\n",
    "count=1\n",
    "m = []\n",
    "for i in range(1,a+1):\n",
    "    l = []\n",
    "    for j in range(1,b+1):\n",
    "        l.append(count)\n",
    "        count+=1\n",
    "    m.append(l)\n",
    "\n",
    "for i in range(a):\n",
    "    for j in range(b):\n",
    "        if(j==b-1):\n",
    "            print(m[i][j], end=\"\")\n",
    "        else:\n",
    "            print(m[i][j], end=\" \")\n",
    "    if(i!=a-1):\n",
    "        print()"
   ]
  },
  {
   "cell_type": "code",
   "execution_count": 13,
   "metadata": {},
   "outputs": [
    {
     "name": "stdout",
     "output_type": "stream",
     "text": [
      "4\n",
      "3\n",
      "1\n",
      "2\n",
      "5\n",
      "1 2 3 5"
     ]
    }
   ],
   "source": [
    "\"\"\"\n",
    "Programming Assignment-3: The power of Randomness\n",
    "\n",
    "You all have used the random library of python. You have seen in the screen-cast of how powerful it is.\n",
    "In this assignment, you will sort a list let's say list_1 of numbers in increasing order using the random library.\n",
    "\n",
    "Following are the steps to sort the numbers using the random library.\n",
    "\n",
    "Step 1: Import the randint definition of the random library of python. Check this page if you want some help.\n",
    "\n",
    "Step 2: Take the elements of the list_1 as input.\n",
    "\n",
    "Step 3: randomly choose two indexes i and j within the range of the size of list_1.\n",
    "\n",
    "Step 4: Swap the elements present at the indexes i and j. After doing this, check whether the list_1 is sorted or not.\n",
    "\n",
    "Step 5: Repeat step 3 and 4 until the array is not sorted.\n",
    "\n",
    "Input Format:\n",
    "The first line contains a single number n which signifies the number of elements in the list_1.\n",
    "From the second line, the elements of the list_1 are given with each number in a new line.\n",
    "\n",
    "Output Format:\n",
    "Print the elements of the list_1 in a single line with each element separated by a space. \n",
    "NOTE 1: There should not be any space after the last element.\n",
    "\n",
    "Example:\n",
    "\n",
    "Input:\n",
    "4\n",
    "3\n",
    "1\n",
    "2\n",
    "5\n",
    "\n",
    "Output:\n",
    "1 2 3 5\n",
    "\n",
    "Explanation: \n",
    "The first line of the input is 4. Which means that n is 4, or the number of elements in list_1 is 4. The elements of list_1 are 3, 1, 2, 5 in this order.\n",
    "The sorted version of this list is 1 2 3 5, which is the output.\n",
    "\n",
    "NOTE 2: There are many ways to sort the elements of a list. The purpose of this assignment is to show the power of randomness, and obviously it's fun.\n",
    "\"\"\"\n",
    "from random import randint\n",
    "n= int(input())\n",
    "I=[]\n",
    "for i in range(n):\n",
    "  ip=int(input())\n",
    "  I.append(ip)\n",
    "S=True\n",
    "u=sorted(I)\n",
    "while(S):\n",
    "  j=randint(0,n-1)\n",
    "  i=randint(0,n-1)\n",
    "  ab=I[j]\n",
    "  I[j]=I[i]\n",
    "  I[i]=ab\n",
    "  if I==u:\n",
    "    S=True\n",
    "  else:\n",
    "    S=False\n",
    "  if(S):\n",
    "    break\n",
    "  else:\n",
    "    S=True\n",
    "for b in range(n):\n",
    "  if(b==n-1):\n",
    "    print(I[b],end=\"\")\n",
    "  else:\n",
    "    print(I[b],end=\" \")"
   ]
  },
  {
   "cell_type": "code",
   "execution_count": 14,
   "metadata": {},
   "outputs": [
    {
     "name": "stdout",
     "output_type": "stream",
     "text": [
      "4\n",
      "3 \n",
      "1\n",
      "2\n",
      "5\n",
      "1 2 3 5\n"
     ]
    }
   ],
   "source": [
    "from random import randint\n",
    "n = int(input())\n",
    "arr = []\n",
    "for i in range(n):\n",
    "    x = int(input())\n",
    "    arr.append(x)\n",
    "\n",
    "sorted = True\n",
    "\n",
    "while(sorted):\n",
    "    j = randint(0,n-1)\n",
    "    i = randint(0,n-1)\n",
    "    arr[i],arr[j] = arr[j],arr[i]\n",
    "    for k in range(0,n-1):\n",
    "        if (arr[k] > arr[k+1]):\n",
    "            sorted = False\n",
    "    \n",
    "    if(sorted):\n",
    "        break\n",
    "    else:\n",
    "        sorted = True\n",
    "\n",
    "for i in range(n):\n",
    "    if(i==n-1):\n",
    "        print(arr[i])\n",
    "    else:\n",
    "        print(arr[i],end=\" \")"
   ]
  },
  {
   "cell_type": "code",
   "execution_count": 15,
   "metadata": {},
   "outputs": [
    {
     "name": "stdout",
     "output_type": "stream",
     "text": [
      "2 10 14\n",
      "Walk"
     ]
    }
   ],
   "source": [
    "\"\"\"\n",
    "Programming Assignment-1: Cab and walk\n",
    "\n",
    "Arun is working in an office which is N blocks away from his house. He wants to minimize the time it takes him to go from his house to the office.\n",
    "He can either take the office cab or he can walk to the office.\n",
    "Arun's velocity is V1 m/s when he is walking. The cab moves with velocity V2 m/s but whenever he calls for the cab, it always starts from the office, covers N blocks, collects Arun and goes back to the office.\n",
    "The cab crosses a total distance of N meters when going from office to Arun's house and vice versa, whereas Arun covers a distance of (2–√∗N) while walking.\n",
    "Help Arun to find whether he should walk or take a cab to minimize the time.\n",
    "\n",
    "Input Format:\n",
    "A single line containing three integer numbers N, V1, and V2 separated by a space.\n",
    "\n",
    "Output Format:\n",
    "Print 'Walk' or 'Cab' accordingly\n",
    "\n",
    "Constraints:\n",
    "\n",
    "1<=V1, V2 <=100\n",
    "\n",
    "1<=N<=200\n",
    "\n",
    "Example-1:\n",
    "\n",
    "Input:\n",
    "5 10 15\n",
    "\n",
    "Output:\n",
    "Cab\n",
    "\n",
    "Example-2:\n",
    "\n",
    "Input:\n",
    "2 10 14\n",
    "\n",
    "Output:\n",
    "Walk\n",
    "\"\"\"\n",
    "n,v1,v2=input().split(\" \")\n",
    "n,v1,v2=int(n),int(v1),int(v2)\n",
    "tv1=(2**.5*n/v1)\n",
    "tv2=(2*n/v2)\n",
    "if(tv1>tv2):\n",
    "  print(\"Cab\",end=\"\")\n",
    "else:\n",
    "  print(\"Walk\",end=\"\")"
   ]
  },
  {
   "cell_type": "code",
   "execution_count": 16,
   "metadata": {},
   "outputs": [
    {
     "name": "stdout",
     "output_type": "stream",
     "text": [
      "2 10 14\n",
      "Walk\n"
     ]
    }
   ],
   "source": [
    "n,v1,v2 = input().split()\n",
    "\n",
    "n = int(n)\n",
    "v1 = int(v1)\n",
    "v2 = int(v2)\n",
    "\n",
    "st_d = pow(2,1/2)*n\n",
    "st_t = st_d/v1\n",
    "\n",
    "el_d = 2*n\n",
    "el_t = el_d/v2\n",
    "\n",
    "if(st_t<el_t):\n",
    "    print(\"Walk\")\n",
    "else:\n",
    "    print(\"Cab\")"
   ]
  },
  {
   "cell_type": "code",
   "execution_count": null,
   "metadata": {},
   "outputs": [],
   "source": [
    "\"\"\"\n",
    "Programming Assignment-2: End-Sort\n",
    "\n",
    "Given a list A of N distinct integer numbers, you can sort the list by moving an element to the end of the list. Find the minimum number of moves required to sort the list using this method in ascending order. \n",
    "\n",
    "Input Format:\n",
    "The first line of the input contains N distinct integers of list A separated by a space.\n",
    "\n",
    "Output Format\n",
    "Print the minimum number of moves required to sort the elements.\n",
    "\n",
    "Example:\n",
    "\n",
    "Input:\n",
    "1 3 2 4 5\n",
    "\n",
    "Output:\n",
    "3\n",
    "\n",
    "Explanation:\n",
    "In the first move, we move 3 to the end of the list. In the second move, we move 4 to the end of the list, and finally, in the third movement, we move 5 to the end.\n",
    "\"\"\"\n",
    "x=[int(x) for x in input().split()]\n",
    "x1=sorted(x)\n",
    "c=0\n",
    "for i in range(len(x)):\n",
    "  if x[i]==x1[c]:\n",
    "    c=c+1\n",
    "print(len(x)-c,end=\"\")"
   ]
  },
  {
   "cell_type": "code",
   "execution_count": 1,
   "metadata": {},
   "outputs": [
    {
     "name": "stdout",
     "output_type": "stream",
     "text": [
      "1 3 2 4 5\n",
      "3\n"
     ]
    }
   ],
   "source": [
    "arr = [int(x) for x in input().split()]\n",
    "arr1 = sorted(arr)\n",
    "count = 0\n",
    "for i in range(len(arr)):\n",
    "    if arr[i] == arr1[count]:\n",
    "        count+=1\n",
    "print(len(arr)-count)"
   ]
  },
  {
   "cell_type": "code",
   "execution_count": 2,
   "metadata": {},
   "outputs": [
    {
     "name": "stdout",
     "output_type": "stream",
     "text": [
      "123\n",
      "Yes\n"
     ]
    }
   ],
   "source": [
    "\"\"\"\n",
    "Programming Assignment-3: Semi Primes\n",
    "\n",
    "A semiprime number is an integer which can be expressed as a product of two distinct primes. For example 15 = 3*5 is a semiprime number but 9 = 3*3 is not .\n",
    "Given an integer number N, find whether it can be expressed as a sum of two semi-primes or not (not necessarily distinct).\n",
    "\n",
    "Input Format:\n",
    "The first line contains an integer N.\n",
    "\n",
    "Output Format:\n",
    "Print 'Yes' if it is possible to represent N as a sum of two semiprimes 'No' otherwise.\n",
    "\n",
    "Example:\n",
    "\n",
    "Input:\n",
    "30\n",
    "\n",
    "Output:\n",
    "Yes\n",
    "\n",
    "Explanation:\n",
    "N = 30 can be expressed as 15+15 where 15 is a semi-prime number (5*3 = 15)\n",
    "\n",
    "NOTE: N is less than equal to 200\n",
    "\"\"\"\n",
    "li = [12, 16, 20, 21, 24, 25, 27, 28, 29, 30, 31, 32, 35, 36, 37, 39, 40, 41, 42, 43, 44, 45, 47, 48, 49, 50, 52, 53, 54, 55, 56, 57, 59, 60, 61, 63, 64, 65, 66, 67, 68, 69, 70, 71, 72, 73, 74, 75, 76, 77, 78, 79, 80, 81, 83, 84, 85, 86, 87, 88, 89, 90, 91, 92, 93, 94, 95, 96, 97, 98, 99, 100, 101, 102, 103, 104, 105, 106, 107, 108, 109, 110, 111, 112, 113, 114, 115, 116, 117, 118, 119, 120, 121, 122, 123, 124, 125, 126, 127, 128, 129, 130, 131, 132, 133, 134, 135, 136, 137, 138, 139, 140, 141, 142, 143, 144, 145, 146, 147, 148, 149, 150, 151, 152, 153, 154, 155, 156, 157, 158, 159, 160, 161, 162, 163, 164, 165, 166, 167, 168, 169, 170, 171, 172, 173, 174, 175, 176, 177, 178, 179, 180, 181, 182, 183, 184, 185, 186, 187, 188, 189, 190, 191, 192, 193, 194, 195, 196, 197, 198, 199, 200]\n",
    "\n",
    "N = int(input())\n",
    "if (N in li):\n",
    "\tprint('Yes')\n",
    "else:\n",
    "\tprint('No')"
   ]
  },
  {
   "cell_type": "code",
   "execution_count": 3,
   "metadata": {},
   "outputs": [
    {
     "name": "stdout",
     "output_type": "stream",
     "text": [
      "123\n",
      "Yes"
     ]
    }
   ],
   "source": [
    "prime1=[]\n",
    "prime2=[]\n",
    "semiprime1=[]\n",
    "semiprime2=[]\n",
    "last=[]\n",
    "n=int(input())\n",
    "for i in range(2,n):\n",
    "  for j in range(2,i):\n",
    "    if(i%j==0):\n",
    "      break\n",
    "    else:\n",
    "      prime1.append(i)\n",
    "      prime2.append(i)\n",
    "for i in prime1:\n",
    "  for j in prime2:\n",
    "    if i!=j and i*j<=n:\n",
    "      semiprime1.append(i*j)\n",
    "      semiprime2.append(i*j)\n",
    "semiprime1.sort()\n",
    "semiprime2.sort()\n",
    "for i in semiprime1:\n",
    "  for j in semiprime2:\n",
    "    if(i+j<=n):\n",
    "      if(i+j) not in last:\n",
    "        last.append(i+j)\n",
    "last.sort()\n",
    "if n in last:\n",
    "  print(\"No\",end=\"\")\n",
    "else:\n",
    "  print(\"Yes\",end=\"\")\n"
   ]
  },
  {
   "cell_type": "code",
   "execution_count": 4,
   "metadata": {},
   "outputs": [
    {
     "name": "stdout",
     "output_type": "stream",
     "text": [
      "4\n",
      "1 3 4 2\n",
      "2\n",
      "3"
     ]
    }
   ],
   "source": [
    "\"\"\"\n",
    "Programming Assignment-1: Computing Paradox\n",
    "\n",
    "You are provided with a playlist containing N songs, each has a unique positive integer length. Assume you like all the songs from this playlist, but there is a song, which you like more than others.\n",
    "It is named \"Computing Paradox\".\n",
    "\n",
    "You decided to sort this playlist in increasing order of songs length. For example, if the lengths of the songs in the playlist were {1, 3, 5, 2, 4} after sorting it becomes {1, 2, 3, 4, 5}.\n",
    "Before the sorting, \"Computing Paradox\" was on the kth position (1-indexing is assumed for the playlist) in the playlist.\n",
    "\n",
    "Your task is to find the position of \"Computing Paradox\" in the sorted playlist.\n",
    "\n",
    "Input Format:\n",
    "The first line contains two numbers N denoting the number of songs in the playlist.\n",
    "The second line contains N space separated integers A1, A2, A3,..., AN denoting the lengths of songs.\n",
    "The third line contains an integer k, denoting the position of \"Computing Paradox\" in the initial playlist.\n",
    "\n",
    "Output Format:\n",
    "\n",
    "Output a single line containing the position of \"Computing Paradox\" in the sorted playlist.\n",
    "\n",
    "Example:\n",
    "\n",
    "Input:\n",
    "4\n",
    "1 3 4 2\n",
    "2\n",
    "\n",
    "\n",
    "Output:\n",
    "3\n",
    "\n",
    "Explaination:\n",
    "N equals to 4, k equals to 2, A equals to {1, 3, 4, 2}. The answer is 3 because {1, 3, 4, 2} -> {1, 2, 3, 4}.\n",
    "\"\"\"\n",
    "t=int(input())\n",
    "a=[int(i) for i in input().split()]\n",
    "f=int(input())\n",
    "b=sorted(a)\n",
    "x=a[f-1]\n",
    "print(b.index(x)+1,end=\"\")"
   ]
  },
  {
   "cell_type": "code",
   "execution_count": 5,
   "metadata": {},
   "outputs": [
    {
     "name": "stdout",
     "output_type": "stream",
     "text": [
      "4\n",
      "1 3 4 2\n",
      "2\n",
      "3\n"
     ]
    }
   ],
   "source": [
    "n=int(input())\n",
    "a=[int(x) for x in input().split()]\n",
    "k=int(input())\n",
    "key=a[k-1]\n",
    "a.sort()\n",
    "for i in range(len(a)):\n",
    "    if key==a[i]:\n",
    "        print(i+1)\n",
    "        break"
   ]
  },
  {
   "cell_type": "code",
   "execution_count": 6,
   "metadata": {},
   "outputs": [
    {
     "name": "stdout",
     "output_type": "stream",
     "text": [
      "8\n",
      "{1: 1, 2: 8, 3: 27, 4: 64, 5: 125, 6: 216, 7: 343, 8: 512}"
     ]
    }
   ],
   "source": [
    "\"\"\"\n",
    "Programming Assignment-2: Dictionary\n",
    "\n",
    "Given a positive integer number n, you have to write a program that generates a dictionary d which contains (i, i*i*i) such that i is the key and i*i*i is its value, where i is from 1 to n (both included).\n",
    "Then you have to just print this dictionary d.\n",
    "\n",
    "Example:\n",
    "Input: 4\n",
    "\n",
    "will give output as\n",
    "{1: 1, 2: 8, 3: 27, 4: 64}\n",
    "\n",
    "Input Format:\n",
    "Take the number n in a single line.\n",
    "\n",
    "Output Format:\n",
    "Print the dictionary d in a single line.\n",
    "\n",
    "\n",
    "Example:\n",
    "\n",
    "Input:\n",
    "8\n",
    "\n",
    "Output:\n",
    "{1: 1, 2: 8, 3: 27, 4: 64, 5: 125, 6: 216, 7: 343, 8: 512}\n",
    "\n",
    "Explanation:\n",
    "\n",
    "Here n is 8, we will start from i=1, hence the first element of the dictionary is (1: 1), as i becomes 2, the second element of the dictionary becomes (2: 8) and so on.\n",
    "Hence the output will be {1: 1, 2: 8, 3: 27, 4: 64, 5: 125, 6: 216, 7: 343, 8: 512}.\n",
    "\"\"\"\n",
    "t=int(input())\n",
    "a=[i for i in range(1,t+1)]\n",
    "a2=[i**3 for i in range(1,t+1)]\n",
    "x=dict(zip(a,a2))\n",
    "print(x,end=\"\")"
   ]
  },
  {
   "cell_type": "code",
   "execution_count": 7,
   "metadata": {},
   "outputs": [
    {
     "name": "stdout",
     "output_type": "stream",
     "text": [
      "4\n",
      "{1: 1, 2: 8, 3: 27, 4: 64}\n"
     ]
    }
   ],
   "source": [
    "n=int(input())\n",
    "d=dict()\n",
    "for i in range(1,n+1):\n",
    "    d[i]=i*i*i\n",
    "\n",
    "print(d)"
   ]
  },
  {
   "cell_type": "code",
   "execution_count": 8,
   "metadata": {},
   "outputs": [
    {
     "name": "stdout",
     "output_type": "stream",
     "text": [
      "5\n",
      "{1: 1, 2: 4, 3: 9, 4: 16, 5: 25}4\n",
      "{1: 1, 2: 4, 3: 9, 4: 16}"
     ]
    }
   ],
   "source": [
    "\"\"\"\n",
    "Programming Assignment-3: Functions\n",
    "\n",
    "Given an integer number n, define a function named printDict() which can print a dictionary where the keys are numbers between 1 and n (both included) and the values are square of keys.\n",
    "The function printDict() doesn't take any argument.\n",
    "\n",
    "Input Format:\n",
    "The first line contains the number n.\n",
    "\n",
    "Output Format:\n",
    "Print the dictionary in one line.\n",
    "\n",
    "Example:\n",
    "\n",
    "Input:\n",
    "5\n",
    "\n",
    "Output:\n",
    "{1: 1, 2: 4, 3: 9, 4: 16, 5: 25}\n",
    "\n",
    "NOTE: You are supposed to write the code for the function printDict() only. The function has already been called in the main part of the code.\n",
    "\"\"\"\n",
    "def printDict():\n",
    "  x=int(input())\n",
    "  d={}\n",
    "  for i in range(x):\n",
    "    d[i+1]=(i+1)**2\n",
    "  print(d,end='')\n",
    "printDict()\n",
    "\n",
    "printDict()"
   ]
  },
  {
   "cell_type": "code",
   "execution_count": 9,
   "metadata": {},
   "outputs": [
    {
     "name": "stdout",
     "output_type": "stream",
     "text": [
      "5\n",
      "{1: 1, 2: 4, 3: 9, 4: 16, 5: 25}\n"
     ]
    }
   ],
   "source": [
    "def printDict():\n",
    "    n = int(input())\n",
    "    d=dict()\n",
    "    for i in range(1,n+1):\n",
    "        d[i]=i**2\n",
    "    print(d)\n",
    "printDict()"
   ]
  },
  {
   "cell_type": "code",
   "execution_count": 11,
   "metadata": {},
   "outputs": [
    {
     "name": "stdout",
     "output_type": "stream",
     "text": [
      "4\n",
      "12 2 5 6\n",
      "10 11 4 1\n",
      "32 1 4 10\n",
      "1 2 10 9\n",
      "12 0 0 0\n",
      "10 11 0 0\n",
      "32 1 4 0\n",
      "1 2 10 9"
     ]
    }
   ],
   "source": [
    "\"\"\"\n",
    "Programming Assignment-1: Lower Triangular Matrix\n",
    "\n",
    "A Lower triangular matrix is a square matrix (where the number of rows and columns are equal)  where all the elements above the diagonal are zero.\n",
    "For example, the following is an upper triangular matrix with the number of rows and columns equal to 3.\n",
    "\n",
    "1 0 0\n",
    "4 5 0\n",
    "7 8 9\n",
    "\n",
    "Write a program to convert a square matrix into a lower triangular matrix.\n",
    "\n",
    "Input Format:\n",
    "The first line of the input contains an integer number n which represents the number of rows and the number of columns.\n",
    "From the second line, take n lines input with each line containing n integer elements. Elements are separated by space.\n",
    "\n",
    "Output format:\n",
    "Print the elements of the matrix with each row in a new line and each element separated by a space.\n",
    "\n",
    "Example 1:\n",
    "\n",
    "Input:\n",
    "3\n",
    "1 2 3\n",
    "4 5 6\n",
    "7 8 9\n",
    "\n",
    "Output:\n",
    "1 0 0\n",
    "4 5 0\n",
    "7 8 9\n",
    "\n",
    "Example 2:\n",
    "\n",
    "Input:\n",
    "4\n",
    "12 2 5 6\n",
    "10 11 4 1\n",
    "32 1 4 10\n",
    "1 2 10 9\n",
    "\n",
    "Output:\n",
    "12 0 0 0\n",
    "10 11 0 0\n",
    "32 1 4 0\n",
    "1 2 10 9\n",
    "\n",
    "Explanation:\n",
    "In both the examples, elements which are above the diagonal are zero.\n",
    "\n",
    "NOTE: There should not be any extra space after the elements of the last column and no extra newline after the last row of the matrix.\n",
    "\"\"\"\n",
    "n=int(input())\n",
    "l=[]\n",
    "for i in range(n):\n",
    "  for j in range(1):\n",
    "    temp=[int(g) for g in input().split()]\n",
    "    l.append(temp)\n",
    "for i in range(n):\n",
    "  for j in range(n):\n",
    "    if i<j:\n",
    "      if j==n-1: \n",
    "        print(\"0\",end=\"\")\n",
    "      else:\n",
    "        print(\"0\",end=\" \")\n",
    "    else:\n",
    "      if j==n-1:\n",
    "        print(l[i][j],end=\"\")\n",
    "      else:\n",
    "        print(l[i][j],end=\" \")\n",
    "        \n",
    "  if i!=n-1:\n",
    "    print()"
   ]
  },
  {
   "cell_type": "code",
   "execution_count": null,
   "metadata": {},
   "outputs": [],
   "source": [
    "a = int(input())\n",
    "\n",
    "\n",
    "m = []\n",
    "for i in range(1,a+1):    \n",
    "    l = list(map(int, input ().split ()))\n",
    "    m.append(l)\n",
    "\n",
    "for i in range(a):\n",
    "    for j in range(a):\n",
    "        if(i>=j):\n",
    "            if(j==a-1):\n",
    "                print(m[i][j], end=\"\")\n",
    "            else:\n",
    "                print(m[i][j], end=\" \")\n",
    "        else:\n",
    "            if(j==a-1):\n",
    "                print(0, end=\"\")\n",
    "            else:\n",
    "                print(0, end=\" \")\n",
    "    if(i!=a-1):\n",
    "        print()"
   ]
  },
  {
   "cell_type": "code",
   "execution_count": 12,
   "metadata": {},
   "outputs": [
    {
     "name": "stdout",
     "output_type": "stream",
     "text": [
      "2\n",
      "1 2 \n",
      "2 1\n",
      "YES"
     ]
    }
   ],
   "source": [
    "\"\"\"\n",
    "Programming Assignment-2: Symmetric\n",
    "\n",
    "Given a square matrix of N rows and columns, find out whether it is symmetric or not.\n",
    "\n",
    "Input Format:\n",
    "The first line of the input contains an integer number n which represents the number of rows and the number of columns.\n",
    "From the second line, take n lines input with each line containing n integer elements with each element separated by a space.\n",
    "\n",
    "Output Format:\n",
    "Print 'YES' if it is symmetric otherwise 'NO'\n",
    "\n",
    "Example:\n",
    "\n",
    "Input:\n",
    "2\n",
    "1 2\n",
    "2 1\n",
    "\n",
    "Output:\n",
    "YES\n",
    "\"\"\"\n",
    "n=int(input())\n",
    "l=[]\n",
    "for i in range(n):\n",
    "  for j in range(1):\n",
    "    temp=[int(g) for g in input().split()]\n",
    "    l.append(temp)\n",
    "x=0\n",
    "for i in range(n):\n",
    "  for j in range(n):\n",
    "    if l[i][j]!=l[j][i]:\n",
    "      x=x+1\n",
    "if x==0:\n",
    "  print(\"YES\",end=\"\")\n",
    "else:\n",
    "  print(\"NO\",end=\"\")\n",
    "  "
   ]
  },
  {
   "cell_type": "code",
   "execution_count": 13,
   "metadata": {},
   "outputs": [
    {
     "name": "stdout",
     "output_type": "stream",
     "text": [
      "2\n",
      "1 2\n",
      "2 1\n",
      "YES\n"
     ]
    }
   ],
   "source": [
    "def isSymmetric(mat, N): \n",
    "    for i in range(N): \n",
    "        for j in range(N): \n",
    "            if (mat[i][j] != mat[j][i]): \n",
    "                return False\n",
    "    return True\n",
    "   \n",
    "\n",
    "a = int(input())\n",
    "\n",
    "\n",
    "m = []\n",
    "for i in range(1,a+1):    \n",
    "    l = list(map(int, input ().split ()))\n",
    "    m.append(l)\n",
    "if (isSymmetric(m, a)): \n",
    "    print(\"YES\")\n",
    "else: \n",
    "    print(\"NO\")"
   ]
  },
  {
   "cell_type": "code",
   "execution_count": 14,
   "metadata": {},
   "outputs": [
    {
     "name": "stdout",
     "output_type": "stream",
     "text": [
      "3 3\n",
      "1 0 0\n",
      "0 0 1\n",
      "1 1 0\n",
      "YES"
     ]
    }
   ],
   "source": [
    "\"\"\"\n",
    "Programming Assignment-3: Binary Matrix\n",
    "\n",
    "Given a matrix with N rows and M columns, the task is to check if the matrix is a Binary Matrix. A binary matrix is a matrix in which all the elements are either 0 or 1.\n",
    "\n",
    "Input Format:\n",
    "The first line of the input contains two integer number N and M which represents the number of rows and the number of columns respectively, separated by a space.\n",
    "From the second line, take N lines input with each line containing M integer elements with each element separated by a space. \n",
    "\n",
    "Output Format:\n",
    "Print 'YES' or 'NO' accordingly\n",
    "\n",
    "Example:\n",
    "\n",
    "Input:\n",
    "3 3\n",
    "1 0 0\n",
    "0 0 1\n",
    "1 1 0\n",
    "\n",
    "Output:\n",
    "YES\n",
    "\"\"\"\n",
    "n,m=map(int,input().split())\n",
    "b=0\n",
    "for i in range(n):\n",
    "  for j in range(1):\n",
    "    temp=[int(g) for g in input().split()]\n",
    "    for k in temp:\n",
    "      if k!=0 and k!=1:\n",
    "        b=b+1\n",
    "        break\n",
    "if b==0:\n",
    "  print(\"YES\",end=\"\")\n",
    "else:\n",
    "  print(\"NO\",end=\"\")\n",
    "    "
   ]
  },
  {
   "cell_type": "code",
   "execution_count": 15,
   "metadata": {},
   "outputs": [
    {
     "name": "stdout",
     "output_type": "stream",
     "text": [
      "3 3\n",
      "1 0 0\n",
      "0 0 1\n",
      "1 1 0\n",
      "YES\n"
     ]
    }
   ],
   "source": [
    "def isBinaryMatrix(mat,M,N): \n",
    "    for i in range(M): \n",
    "        for j in range(N): \n",
    "            # Returns false if element \n",
    "            # is other than 0 or 1. \n",
    "            if ((mat[i][j] == 0 or mat[i][j] == 1)==False): \n",
    "                return False; \n",
    "  \n",
    "    # Returns true if all the  \n",
    "    # elements are either 0 or 1. \n",
    "    return True; \n",
    "\n",
    "a,b=map(int,input().split())\n",
    "\n",
    "\n",
    "m = []\n",
    "for i in range(1,a+1):    \n",
    "    l = list(map(int, input ().split ()))\n",
    "    m.append(l)\n",
    "if (isBinaryMatrix(m,a,b)): \n",
    "    print(\"YES\")\n",
    "else: \n",
    "    print(\"NO\")"
   ]
  },
  {
   "cell_type": "code",
   "execution_count": 16,
   "metadata": {},
   "outputs": [
    {
     "name": "stdout",
     "output_type": "stream",
     "text": [
      "12 24 35 24\n",
      "12 24 35"
     ]
    }
   ],
   "source": [
    "\"\"\"\n",
    "Programming Assignment - 1: Duplicate Elements\n",
    "\n",
    "With a given list L of integers, write a program to print this list L after removing all duplicate values with original order preserved.\n",
    "\n",
    "Example:\n",
    "\n",
    "If the input list is\n",
    "\n",
    "12 24 35 24 88 120 155 88 120 155\n",
    "\n",
    "Then the output should be\n",
    "\n",
    "12 24 35 88 120 155\n",
    "\n",
    "Explanation:\n",
    "Third, seventh and ninth element of the list L has been removed because it was already present.\n",
    "\n",
    "Input Format:\n",
    "In one line take the elements of the list L with each element separated by a space.\n",
    "\n",
    "Output Format:\n",
    "Print the elements of the modified list in one line with each element separated by a space.\n",
    "\n",
    "Example:\n",
    "\n",
    "Input:\n",
    "12 24 35 24\n",
    "\n",
    "Output:\n",
    "12 24 35\n",
    "\"\"\"\n",
    "o=list(map(int,input().split()))\n",
    "d=[]\n",
    "for i in o:\n",
    "  if i not in d:\n",
    "    d.append(i)\n",
    "print(*d,end=\"\")"
   ]
  },
  {
   "cell_type": "code",
   "execution_count": 17,
   "metadata": {},
   "outputs": [
    {
     "name": "stdout",
     "output_type": "stream",
     "text": [
      "12 24 35 24\n",
      "12 24 35 "
     ]
    }
   ],
   "source": [
    "def removeDuplicate( li ):\n",
    "    newli=[]\n",
    "    seen = set()\n",
    "    for item in li:\n",
    "        if item not in seen:\n",
    "            seen.add( item )\n",
    "            newli.append(item)\n",
    "\n",
    "    return newli\n",
    "\n",
    "li=[]\n",
    "li= list(map(int, input ().split ()))\n",
    "x = removeDuplicate(li)\n",
    "\n",
    "for i in x:\n",
    "    print(i,end=\" \")"
   ]
  },
  {
   "cell_type": "code",
   "execution_count": 18,
   "metadata": {},
   "outputs": [
    {
     "name": "stdout",
     "output_type": "stream",
     "text": [
      "The quick brown fox jumps over the lazy dog\n",
      "YES"
     ]
    }
   ],
   "source": [
    "\"\"\"\n",
    "Programming Assignment-2: Panagrams\n",
    "\n",
    "A panagram is a sentence containing every 26 letters in the English alphabet. Given a string S, check if it is panagram or not.\n",
    "\n",
    "Input Format:\n",
    "The first line contains the sentence S.\n",
    "\n",
    "Output Format:\n",
    "Print 'YES' or 'NO' accordingly\n",
    "\n",
    "Example:\n",
    "\n",
    "Input:\n",
    "The quick brown fox jumps over the lazy dog\n",
    "\n",
    "Output:\n",
    "YES\n",
    "\n",
    "\"\"\"\n",
    "alphabet=[]\n",
    "for i in range(97,123):\n",
    "  alphabet.append(chr(i))\n",
    "s=input()\n",
    "s=s.lower()\n",
    "d=set(s)\n",
    "d=list(d)\n",
    "for i in d:\n",
    "  if i in alphabet:\n",
    "    alphabet.remove(i)\n",
    "if len(alphabet)==0:\n",
    "  print(\"YES\",end=\"\")\n",
    "else:\n",
    "  print(\"NO\",end=\"\")"
   ]
  },
  {
   "cell_type": "code",
   "execution_count": 19,
   "metadata": {},
   "outputs": [
    {
     "name": "stdout",
     "output_type": "stream",
     "text": [
      "The quick brown fox jumps over the lazy dog\n",
      "YES\n"
     ]
    }
   ],
   "source": [
    "def checkPangram(s): \n",
    "    List = [] \n",
    "    # create list of 26 charecters and set false each entry \n",
    "    for i in range(26): \n",
    "        List.append(False) \n",
    "          \n",
    "    #converting the sentence to lowercase and iterating \n",
    "    # over the sentence  \n",
    "    for c in s.lower():  \n",
    "        if not c == \" \": \n",
    "            # make the corresponding entry True \n",
    "            List[ord(c) -ord('a')]=True \n",
    "              \n",
    "    #check if any charecter is missing then return False \n",
    "    for ch in List: \n",
    "        if ch == False: \n",
    "            return False\n",
    "    return True\n",
    "  \n",
    "# Driver Program to test above functions \n",
    "sentence = input()\n",
    "  \n",
    "if (checkPangram(sentence)): \n",
    "    print(\"YES\")\n",
    "else: \n",
    "    print(\"NO\")"
   ]
  },
  {
   "cell_type": "code",
   "execution_count": 20,
   "metadata": {},
   "outputs": [
    {
     "name": "stdout",
     "output_type": "stream",
     "text": [
      "your article is in queue\n",
      "yor article is in qu"
     ]
    }
   ],
   "source": [
    "\"\"\"\n",
    "Programming Assignment-3: Vowels\n",
    "\n",
    "Given a string S of lowercase letters, remove consecutive vowels from S. After removing, the order of the list should be maintained.\n",
    "\n",
    "Input Format:\n",
    "\n",
    "Sentence S in a single line\n",
    "\n",
    "Output Format:\n",
    "Print S after removing consecutive vowels\n",
    "\n",
    "Example:\n",
    "\n",
    "Input:\n",
    "your article is in queue\n",
    "\n",
    "Output:\n",
    "yor article is in qu\n",
    "\n",
    "Explanation:\n",
    "\n",
    "In the first word, 'o' and 'u' are appearing together, hence the second letter 'u' is removed. In the fifth word, 'u', 'e', 'u' and 'e' are appearing together, hence 'e', 'u', 'e' are removed.\n",
    "\"\"\"\n",
    "def is_vow(c): \n",
    "  \n",
    "    # this compares vowel with  \n",
    "    # character 'c' \n",
    "    return ((c == 'a') or (c == 'e') or \n",
    "            (c == 'i') or (c == 'o') or \n",
    "            (c == 'u')) \n",
    "  \n",
    "# function to print resultant string \n",
    "def removeVowels(str): \n",
    "  \n",
    "    # print 1st character \n",
    "    print(str[0], end = \"\") \n",
    "  \n",
    "    # loop to check for each character \n",
    "    for i in range(1,len(str)): \n",
    "  \n",
    "        # comparison of consecutive \n",
    "        # characters \n",
    "        if ((is_vow(str[i - 1]) != True) or \n",
    "            (is_vow(str[i]) != True)): \n",
    "              \n",
    "            print(str[i], end = \"\")\n",
    "  \n",
    "# Driver code \n",
    "str= input() \n",
    "removeVowels(str)"
   ]
  },
  {
   "cell_type": "code",
   "execution_count": 21,
   "metadata": {},
   "outputs": [
    {
     "name": "stdout",
     "output_type": "stream",
     "text": [
      "4\n",
      "25 1 29 7\n",
      "24 20 4 32\n",
      "16 38 29 1\n",
      "48 25 21 19\n",
      "25 24 16 48 25 21 19 1 32 7 29 1 20 38 29 4 "
     ]
    }
   ],
   "source": [
    "\"\"\"\n",
    "Programming Assignment-1: Counter Spiral\n",
    "\n",
    "Given a square matrix, you have to write a program to print it in a counter-clockwise spiral form.\n",
    "\n",
    "\n",
    "Input Format:\n",
    "The first line of the input contains an integer number n which represents the number of rows and columns in the matrix.\n",
    "From the second line contains n rows with each row having n elements separated by a space.\n",
    "\n",
    "Output Format:\n",
    "Print the elements in a single line with each element separated by a space\n",
    "\n",
    "Example:\n",
    "\n",
    "Input:\n",
    "4\n",
    "25 1 29 7\n",
    "24 20 4 32\n",
    "16 38 29 1\n",
    "48 25 21 19\n",
    "\n",
    "Output:\n",
    "25 24 16 48 25 21 19 1 32 7 29 1 20 38 29 4\n",
    "\n",
    "Explanation: \n",
    "In the above example, each row, first all the elements of the first column is printed which are 25 24 16 48 after that, remaining elements of the last row is printed which are 25 21 and 19.\n",
    "After which the remaining elements of the last column is printed which are 1 32 and 7 and so on...\n",
    "\"\"\"\n",
    "a=int(input())\n",
    "mat=[]\n",
    "for i in range(0,a):\n",
    "  l=list(map(int,input().split()))\n",
    "  mat.append(l)\n",
    "m=a\n",
    "n=a\n",
    "k=0\n",
    "l=0\n",
    "count=0\n",
    "total=a*a\n",
    "while(k<m and l<n):\n",
    "  if(count==total):\n",
    "    break\n",
    "  for i in range(k,m):\n",
    "    print(mat[i][l],end=\" \")\n",
    "    count += 1\n",
    "  l += 1\n",
    "  \n",
    "  if(count==total):\n",
    "    break\n",
    "  for i in range(l,n):\n",
    "    print(mat[m-1][i],end=\" \")\n",
    "    count += 1\n",
    "  m-=1\n",
    "  \n",
    "  if(count==total):\n",
    "    break\n",
    "  if(k<m):\n",
    "    for i in range(m-1,k-1,-1):\n",
    "      print(mat[i][n-1],end=\" \")\n",
    "      count += 1\n",
    "  n-= 1\n",
    "  \n",
    "  if(count==total):\n",
    "    break\n",
    "  if(l<n):\n",
    "    for i in range(n-1,l-1,-1):\n",
    "      print(mat[k][i],end=\" \")\n",
    "      count +=1\n",
    "  k += 1"
   ]
  },
  {
   "cell_type": "code",
   "execution_count": null,
   "metadata": {},
   "outputs": [],
   "source": [
    "def counterClockspiralPrint(m, n, arr) :\n",
    "    k = 0; l = 0\n",
    "     \n",
    "    # k - starting row index\n",
    "    # m - ending row index\n",
    "    # l - starting column index\n",
    "    # n - ending column index\n",
    "    # i - iterator \n",
    " \n",
    "    # initialize the count\n",
    "    cnt = 0\n",
    " \n",
    "    # total number of \n",
    "    # elements in matrix\n",
    "    total = m * n\n",
    " \n",
    "    while (k < m and l < n) :\n",
    "        if (cnt == total) :\n",
    "            break\n",
    " \n",
    "        # Print the first column \n",
    "        # from the remaining columns \n",
    "        for i in range(k, m) :\n",
    "            print(arr[i][l], end = \" \")\n",
    "            cnt += 1\n",
    "         \n",
    "        l += 1\n",
    " \n",
    "        if (cnt == total) :\n",
    "            break\n",
    " \n",
    "        # Print the last row from\n",
    "        # the remaining rows \n",
    "        for i in range (l, n) :\n",
    "            print( arr[m - 1][i], end = \" \")\n",
    "            cnt += 1\n",
    "         \n",
    "        m -= 1\n",
    "         \n",
    "        if (cnt == total) :\n",
    "            break\n",
    " \n",
    "        # Print the last column  \n",
    "        # from the remaining columns \n",
    "        if (k < m) :\n",
    "            for i in range(m - 1, k - 1, -1) :\n",
    "                print(arr[i][n - 1], end = \" \")\n",
    "                cnt += 1\n",
    "            n -= 1\n",
    " \n",
    "        if (cnt == total) :\n",
    "            break\n",
    " \n",
    "        # Print the first row \n",
    "        # from the remaining rows \n",
    "        if (l < n) :\n",
    "            for i in range(n - 1, l - 1, -1) :\n",
    "                print( arr[k][i], end = \" \")\n",
    "                cnt += 1\n",
    "                 \n",
    "            k += 1\n",
    "             \n",
    " \n",
    "# Driver Code\n",
    "num = int(input())\n",
    "R = num\n",
    "C = num\n",
    "\n",
    "arr = []\n",
    "for i in range(1,num+1):    \n",
    "    l = list(map(int, input ().split ()))\n",
    "    arr.append(l)\n",
    "         \n",
    "counterClockspiralPrint(R, C, arr)"
   ]
  },
  {
   "cell_type": "code",
   "execution_count": 1,
   "metadata": {},
   "outputs": [
    {
     "name": "stdout",
     "output_type": "stream",
     "text": [
      "23dsa43dsa98\n",
      "98"
     ]
    }
   ],
   "source": [
    "\"\"\"\n",
    "Programming Assignment-2: Maximum Numeric\n",
    "\n",
    "Given an alphanumeric string S, extract maximum numeric value from that string. All the alphabets are in lower case. Take the maximum consecutive digits as a single number.\n",
    "\n",
    "Input Format:\n",
    "The first line contains the string S.\n",
    "\n",
    "Output Format:\n",
    "Print the maximum value\n",
    "\n",
    "Example:\n",
    "\n",
    "Input:\n",
    "23dsa43dsa98\n",
    "\n",
    "Output:\n",
    "98\n",
    "\n",
    "Explanation:\n",
    "There are three integer values present in the string, 23, 43 and 98. Among these, 98 is the maximum.\n",
    "\"\"\"\n",
    "import re\n",
    "ip=input()\n",
    "l=((re.findall('\\d+', ip)))\n",
    "l=list(map(int,l))\n",
    "print(max(l),end='')"
   ]
  },
  {
   "cell_type": "code",
   "execution_count": 2,
   "metadata": {},
   "outputs": [
    {
     "name": "stdout",
     "output_type": "stream",
     "text": [
      "23dsa43dsa98\n",
      "98\n"
     ]
    }
   ],
   "source": [
    "import re \n",
    "  \n",
    "def extractMax(input): \n",
    "  \n",
    "     # get a list of all numbers separated by  \n",
    "     # lower case characters  \n",
    "     # \\d+ is a regular expression which means \n",
    "     # one or more digit \n",
    "     # output will be like ['100','564','365'] \n",
    "     numbers = re.findall('\\d+',input) \n",
    "  \n",
    "     # now we need to convert each number into integer \n",
    "     # int(string) converts string into integer \n",
    "     # we will map int() function onto all elements  \n",
    "     # of numbers list \n",
    "     numbers = map(int,numbers) \n",
    "  \n",
    "     print(max(numbers)) \n",
    "\n",
    "S = input()\n",
    "extractMax(S)"
   ]
  },
  {
   "cell_type": "code",
   "execution_count": 1,
   "metadata": {},
   "outputs": [
    {
     "name": "stdout",
     "output_type": "stream",
     "text": [
      "john@google.com\n",
      "google"
     ]
    }
   ],
   "source": [
    "\"\"\"\n",
    "Programming Assignment-3: Email ID\n",
    "Due on 2019-10-03, 23:59 IST\n",
    "Assuming that we have some email addresses in the \"username@companyname.com\" format, please write program to print the company name of a given email address. Both user names and company names are composed of letters only.\n",
    "\n",
    "Input Format:\n",
    "The first line of the input contains an email address.\n",
    "\n",
    "Output Format:\n",
    "Print the company name in single line.\n",
    "\n",
    "Example;\n",
    "\n",
    "Input:\n",
    "john@google.com\n",
    "\n",
    "Output:\n",
    "google\n",
    "\"\"\"\n",
    "ip=input()\n",
    "x=ip.index(\"@\")\n",
    "print(ip[x+1:len(ip)-4],end='')"
   ]
  },
  {
   "cell_type": "code",
   "execution_count": 2,
   "metadata": {},
   "outputs": [
    {
     "name": "stdout",
     "output_type": "stream",
     "text": [
      "john@google.com\n",
      "google\n"
     ]
    }
   ],
   "source": [
    "import re\n",
    "emailAddress = input()\n",
    "pat2 = \"(\\w+)@(\\w+)\\.(com)\"\n",
    "r2 = re.match(pat2,emailAddress)\n",
    "print(r2.group(2))"
   ]
  },
  {
   "cell_type": "code",
   "execution_count": 3,
   "metadata": {},
   "outputs": [
    {
     "name": "stdout",
     "output_type": "stream",
     "text": [
      "Hi$my*name\n",
      "YES"
     ]
    }
   ],
   "source": [
    "\"\"\"\n",
    "Programming Assignment-1: Special Character\n",
    "\n",
    "Given a string S, check whether it contains any special character or not. Print 'YES' if it does else 'NO'.\n",
    "\n",
    "Input Format:\n",
    "\n",
    "The first line contains the string S\n",
    "\n",
    "Output Format:\n",
    "\n",
    "Print 'YES' or 'NO'\n",
    "\n",
    "Example:\n",
    "\n",
    "Input:\n",
    "Hi$my*name\n",
    "\n",
    "Output:\n",
    "YES\n",
    "\"\"\"\n",
    "s=input()\n",
    "spch=['[','@','_','!','#','$','%','^','&','*','(',')','<','>','?','/','\\\\','|','{','}','~',':',']']\n",
    "for i in s:\n",
    "  if i in spch:\n",
    "    print(\"YES\",end=\"\")\n",
    "    break\n",
    "else:\n",
    "  print(\"NO\",end=\"\")"
   ]
  },
  {
   "cell_type": "code",
   "execution_count": 4,
   "metadata": {},
   "outputs": [
    {
     "name": "stdout",
     "output_type": "stream",
     "text": [
      "Hi$my*name\n",
      "YES\n"
     ]
    }
   ],
   "source": [
    "\n",
    "import re \n",
    "  \n",
    "# Function checks if the string \n",
    "# contains any special character \n",
    "def run(string): \n",
    "  \n",
    "    # Make own character set and pass  \n",
    "    # this as argument in compile method \n",
    "    regex = re.compile('[@_!#$%^&*()<>?/\\|}{~:]') \n",
    "      \n",
    "    # Pass the string in search  \n",
    "    # method of regex object.     \n",
    "    if(regex.search(string) == None): \n",
    "        print(\"NO\") \n",
    "          \n",
    "    else: \n",
    "        print(\"YES\")\n",
    "\n",
    "S = input()\n",
    "\n",
    "run(S)"
   ]
  },
  {
   "cell_type": "code",
   "execution_count": 5,
   "metadata": {},
   "outputs": [
    {
     "name": "stdout",
     "output_type": "stream",
     "text": [
      "2\n",
      "NO"
     ]
    }
   ],
   "source": [
    "\"\"\"\n",
    "Programming Assignment-2: Jumps\n",
    "\n",
    "One day Ajit got a strange feeling of jumping from one point to another. The jumping will be done in one ­dimension only. \n",
    "He will start from a point 0 and from there he will perform a lot of jumps. He can only jump in a specific sequence: \n",
    "1­jump, 2­jump, 3­jump, 1­jump, 2­jump, 3­jump, 1­jump, and so on. (1­>2­>3­>1­>2­>3­>1.....)\n",
    "\n",
    "1-­jump means that if Ajit is at the point x, he will jump to the point x+1. \n",
    "2­-jumps mean that if Ajit is at the point x, he will jump to the point x+2. \n",
    "3­-jumps mean that if Ajit is at the point x, he will jump to the point x+3. \n",
    "\n",
    "Before the start Ajit asks you: will he arrive at the point a after some number of jumps?\n",
    "\n",
    "Input Format:\n",
    "The first line contains a single number a denoting the point Ajit asks about.\n",
    "\n",
    "Output Format:\n",
    "Output \"YES\" without a quotes if Ajit can arrive at point a or \"NO\" without quotes \n",
    "otherwise.\n",
    "\n",
    "Example-1:\n",
    "\n",
    "Input:\n",
    "0\n",
    "\n",
    "Output:\n",
    "YES\n",
    "\n",
    "Explanation:\n",
    "He started at point 0\n",
    "\n",
    "Example-2:\n",
    "\n",
    "Input:\n",
    "2\n",
    "\n",
    "Output:\n",
    "NO\n",
    "\n",
    "Explanation:\n",
    "From 0 he can take 1 jump to reach point 1 but after that  he can take only 2 jumps which will lead him to point 3.\n",
    "Jump sequence (1­>2).\n",
    "\n",
    "NOTE: The value of a can be as large as 1018. Please make your program efficient or you may receive run time error.\n",
    "\"\"\"\n",
    "ip=int(input())\n",
    "x=ip%6\n",
    "if x==0 or x==1 or x==3:\n",
    "  print(\"YES\",end=\"\")\n",
    "else:\n",
    "  print(\"NO\",end=\"\")"
   ]
  },
  {
   "cell_type": "code",
   "execution_count": 6,
   "metadata": {},
   "outputs": [
    {
     "name": "stdout",
     "output_type": "stream",
     "text": [
      "2\n",
      "NO\n"
     ]
    }
   ],
   "source": [
    "x = int(input())\n",
    "\n",
    "if((x%6==0) or (x%6==1) or (x%6==3)):\n",
    "    print(\"YES\")\n",
    "else:\n",
    "    print(\"NO\")"
   ]
  },
  {
   "cell_type": "code",
   "execution_count": 8,
   "metadata": {},
   "outputs": [
    {
     "name": "stdout",
     "output_type": "stream",
     "text": [
      "100,150,180\n",
      "18,22,24"
     ]
    }
   ],
   "source": [
    "\"\"\"\n",
    "Programming Assignments-3: Calculate\n",
    "\n",
    "Write a program that calculates and prints the value according to the given formula:\n",
    "Q = Square root of [(2 * C * D)/H]\n",
    "Following are the fixed values of C and H:\n",
    "C is 50. H is 30.\n",
    "D is the variable whose values should be input to your program in a comma-separated sequence.\n",
    "\n",
    "Input Format:\n",
    "A sequence of values for D with each value separated by a comma.\n",
    "\n",
    "Output Format:\n",
    "Print the sequence of Q values with each value separated by a comma.\n",
    "\n",
    "Example:\n",
    "\n",
    "Input:\n",
    "100,150,180\n",
    "\n",
    "Output:\n",
    "18,22,24\n",
    "\"\"\"\n",
    "d=[int(i) for i in input().split(\",\")]\n",
    "c=50\n",
    "h=30\n",
    "l=len(d)\n",
    "f=[]\n",
    "for i in range(l):\n",
    "  q=((2*c*d[i])/h)**(0.5)\n",
    "  f.append(round(q))\n",
    "for i in range(l):\n",
    "  if i==l-1:\n",
    "    print(f[i],end=\"\")\n",
    "  else:\n",
    "    print(f[i],end=\",\")"
   ]
  },
  {
   "cell_type": "code",
   "execution_count": 9,
   "metadata": {},
   "outputs": [
    {
     "name": "stdout",
     "output_type": "stream",
     "text": [
      "100,150,180\n",
      "18,22,24\n"
     ]
    }
   ],
   "source": [
    "import math\n",
    "c=50\n",
    "h=30\n",
    "value = []\n",
    "items=[x for x in input().split(',')]\n",
    "for d in items:\n",
    "    value.append(str(int(round(math.sqrt(2*c*float(d)/h)))))\n",
    "\n",
    "print (','.join(value))"
   ]
  },
  {
   "cell_type": "code",
   "execution_count": 10,
   "metadata": {},
   "outputs": [
    {
     "name": "stdout",
     "output_type": "stream",
     "text": [
      "7 3\n",
      "7 3 2 4 8 12 56\n",
      "2"
     ]
    }
   ],
   "source": [
    "\"\"\"\n",
    "Programming Assignment-1: Marks distribution\n",
    "\n",
    "Given a list A of n elements, representing the marks. There are m students and you have to distribute the marks from the list A to m students such that:\n",
    "\n",
    "1) Each student gets marks.\n",
    "2) The difference between the maximum marks and minimum marks given to the students is minimised.\n",
    "\n",
    "Input Format:\n",
    "The first line contains the value n and m respectively separated by a space.\n",
    "The second line contains the elements of list A separated by a space\n",
    "\n",
    "Output Format:\n",
    "Print the minimum difference\n",
    "\n",
    "Example:\n",
    "\n",
    "Input:\n",
    "7 3\n",
    "7 3 2 4 8 12 56\n",
    "\n",
    "Output:\n",
    "2\n",
    "\n",
    "Explanation:\n",
    "We need to pick 3 marks for three students (m=3). If we pick 2, 3 and 4, the difference is minimum which is 2.\n",
    "\"\"\"\n",
    "n,m=input().split(\" \")\n",
    "n=int(n)\n",
    "m=int(m)\n",
    "ip=[int(i) for i in input().split(\" \")]\n",
    "new=sorted(ip)\n",
    "i=0\n",
    "mdf=new[n-1]-new[0]\n",
    "x=[]\n",
    "while i+m <= n:\n",
    "  if new[m+i-1]-new[i] < mdf:\n",
    "    x.append(new[m+i-1]-new[i])\n",
    "  i += 1\n",
    "print(min(x),end='')"
   ]
  },
  {
   "cell_type": "code",
   "execution_count": 11,
   "metadata": {},
   "outputs": [
    {
     "name": "stdout",
     "output_type": "stream",
     "text": [
      "7 3\n",
      "7 3 2 4 8 12 56\n",
      "2\n"
     ]
    }
   ],
   "source": [
    "import sys; \n",
    "  \n",
    "\n",
    "def findMinDiff(arr, n, m): \n",
    "  \n",
    "    # if there are no chocolates or number \n",
    "    # of students is 0 \n",
    "    if (m==0 or n==0): \n",
    "        return 0\n",
    "  \n",
    "    # Sort the given packets \n",
    "    arr.sort() \n",
    "  \n",
    "    # Number of students cannot be more than \n",
    "    # number of packets \n",
    "    if (n < m): \n",
    "        return -1\n",
    "  \n",
    "    # Largest number of chocolates \n",
    "    min_diff = sys.maxsize \n",
    "  \n",
    "    # Find the subarray of size m such that \n",
    "    # difference between last (maximum in case \n",
    "    # of sorted) and first (minimum in case of \n",
    "    # sorted) elements of subarray is minimum. \n",
    "    first = 0\n",
    "    last = 0\n",
    "    i=0\n",
    "    while(i+m-1<n ): \n",
    "      \n",
    "        diff = arr[i+m-1] - arr[i] \n",
    "        if (diff < min_diff): \n",
    "          \n",
    "            min_diff = diff \n",
    "            first = i \n",
    "            last = i + m - 1\n",
    "          \n",
    "        i+=1\n",
    "          \n",
    "    return (arr[last] - arr[first])\n",
    "\n",
    "n,m = input().split(' ')\n",
    "n = int(n)\n",
    "m = int(m)\n",
    "\n",
    "A = [int(i) for i in input().split(\" \")]\n",
    "\n",
    "print(findMinDiff(A, n, m))"
   ]
  },
  {
   "cell_type": "code",
   "execution_count": 12,
   "metadata": {},
   "outputs": [
    {
     "name": "stdout",
     "output_type": "stream",
     "text": [
      "without,hello,bag,world\n",
      "bag,hello,without,world"
     ]
    }
   ],
   "source": [
    "\"\"\"\n",
    "Programming Assignment-2: String Sort\n",
    "\n",
    "Write a program that accepts a comma-separated sequence of words as input and prints the words in a comma-separated sequence after sorting them alphabetically.\n",
    "\n",
    "Input Format:\n",
    "The first line of input contains words separated by the comma.\n",
    "\n",
    "Output Format:\n",
    "Print the sorted words separated by the comma.\n",
    "\n",
    "Example:\n",
    "\n",
    "Input:\n",
    "without,hello,bag,world\n",
    "\n",
    "Output:\n",
    "bag,hello,without,world\n",
    "\"\"\"\n",
    "y=input()\n",
    "y=y.split(\",\")\n",
    "y=sorted(y)\n",
    "print(\",\".join(y),end='')"
   ]
  },
  {
   "cell_type": "code",
   "execution_count": 13,
   "metadata": {},
   "outputs": [
    {
     "name": "stdout",
     "output_type": "stream",
     "text": [
      "without,hello,bag,world\n",
      "bag,hello,without,world\n"
     ]
    }
   ],
   "source": [
    "items=[x for x in input().split(',')]\n",
    "items.sort()\n",
    "print (','.join(items))"
   ]
  },
  {
   "cell_type": "code",
   "execution_count": 14,
   "metadata": {},
   "outputs": [
    {
     "name": "stdout",
     "output_type": "stream",
     "text": [
      "0 2 3 4 6 7 10\n",
      "2 3 4 6 7 10 0"
     ]
    }
   ],
   "source": [
    "\"\"\"\n",
    "Programming Assignment-3: Push the zero\n",
    "\n",
    "Write a Python program to push all zeros to the end of a given list a. The order of the elements should not change.\n",
    "\n",
    "Input Format:\n",
    "Elements of the list a with each element separated by a space.\n",
    "\n",
    "Output Format:\n",
    "Elements of the modified list with each element separated by a space. After the last element, there should not be any space.\n",
    "\n",
    "Example:\n",
    "\n",
    "Input:\n",
    "0 2 3 4 6 7 10\n",
    "\n",
    "Output:\n",
    "2 3 4 6 7 10 0\n",
    "\n",
    "Explanation:\n",
    "There is one zero in the list. After pushing it at the end the elements of the list becomes 2 3 4 6 7 10 0. The order of other elements remains the same.\n",
    "\"\"\"\n",
    "n=[int(i) for i in input().split(\" \")]\n",
    "x=len(n)\n",
    "c=n.count(0)\n",
    "for i in range(c):\n",
    "  n.remove(0)\n",
    "  n.append(0)\n",
    "for i in range(x):\n",
    "  if i==x-1:\n",
    "    print(n[i],end='')\n",
    "  else:\n",
    "    print(n[i],end=' ')"
   ]
  },
  {
   "cell_type": "code",
   "execution_count": 15,
   "metadata": {},
   "outputs": [
    {
     "name": "stdout",
     "output_type": "stream",
     "text": [
      "0 2 3 4 6 7 10\n",
      "2 3 4 6 7 10 0"
     ]
    }
   ],
   "source": [
    "def move_zero(num_list):\n",
    "    a = [0 for i in range(num_list.count(0))]\n",
    "    x = [ i for i in num_list if i != 0]\n",
    "    x.extend(a)\n",
    "    return(x)\n",
    "\n",
    "num_list = list(map(int, input ().split ()))\n",
    "\n",
    "res = move_zero(num_list)\n",
    "\n",
    "for i in range(len(res)):\n",
    "    if(i==len(res)-1):    \n",
    "        print(res[i],end=\"\")\n",
    "    else:\n",
    "        print(res[i],end=\" \")"
   ]
  },
  {
   "cell_type": "code",
   "execution_count": 17,
   "metadata": {},
   "outputs": [
    {
     "name": "stdout",
     "output_type": "stream",
     "text": [
      "DRINKEATCODE\n",
      "5"
     ]
    }
   ],
   "source": [
    "\"\"\"\n",
    "Programming Assignment-1: Holes\n",
    "\n",
    "Let us assume paper as the plane and a letter as a curve on the plane, then each letter divides the plane into regions. For example letters \"A\", \"D\", \"O\", \"P\", \"R\" divide the plane into two regions so we say these letters each have one hole. Similarly, letter \"B\" has two holes and letters such as \"C\", \"E\", \"F\", \"K\" have no holes. We say that the number of holes in the text is equal to the total number of holes in the letters of the text. Write a program to determine how many holes are in a given text.\n",
    "\n",
    "Input Format:\n",
    "The only line contains a non-empty text composed only of uppercase letters of English alphabet.\n",
    "\n",
    "Output Format:\n",
    "output a single line containing the number of holes in the corresponding text.\n",
    "\n",
    "Example-1\n",
    "\n",
    "Input:\n",
    "DRINKEATCODE\n",
    "\n",
    "Output:\n",
    "5\n",
    "\n",
    "\n",
    "Explanation:\n",
    "D R A O D has one hole hence total number of holes in the text is 5.\n",
    "\"\"\"\n",
    "ip=input()\n",
    "c=0\n",
    "H1=['A','D','O','P','R','Q']\n",
    "H0=['C','E','F','G','H','I','J','K','L','M','N','S','T','U','V','W','X','Y','Z']\n",
    "for i in ip:\n",
    "  if i in H1:\n",
    "    c+=1\n",
    "  elif i in H0:\n",
    "    pass\n",
    "  else:\n",
    "    c+=2\n",
    "print(c,end='')\n",
    "    "
   ]
  },
  {
   "cell_type": "code",
   "execution_count": 20,
   "metadata": {},
   "outputs": [
    {
     "name": "stdout",
     "output_type": "stream",
     "text": [
      "DRINKEATCODE\n"
     ]
    }
   ],
   "source": [
    "list_st = []\n",
    "\n",
    "\n",
    "zero_hole = [\"C\",\"E\",\"F\",\"G\",\"H\",\"I\",\"J\",\"K\",\"L\",\"M\",\"N\",\"S\",\"T\",\"U\",\"V\",\"W\",\"X\",\"Y\",\"Z\"]\n",
    "one_hole = [\"A\",\"D\",\"O\",\"P\",\"Q\",\"R\"]\n",
    "two_hole = [\"B\"]\n",
    "\n",
    "x = input()\n"
   ]
  },
  {
   "cell_type": "code",
   "execution_count": 21,
   "metadata": {},
   "outputs": [
    {
     "name": "stdout",
     "output_type": "stream",
     "text": [
      "a.b\n",
      "-1"
     ]
    }
   ],
   "source": [
    "\"\"\"\n",
    "Programming Assignment-2: Smallest Palindrome\n",
    "\n",
    "Given a string S having characters from English alphabets ['a' - 'z'] and '.' as the special character (without quotes). \n",
    "Write a program to construct the lexicographically smallest palindrome by filling each of the faded character ('.') with a lower case alphabet.\n",
    "\n",
    "Definition:\n",
    "The smallest lexicographical order is an order relation where string s is smaller than t, given the first character of s (s1 ) is smaller than the first character of t (t1 ), or in case they\n",
    "are equivalent, the second character, etc.\n",
    "\n",
    "For example \"aaabbb\" is smaller than \"aaac\" because although the first three characters\n",
    "are equal, the fourth character b is smaller than the fourth character c. \n",
    "\n",
    "Input Format: \n",
    "String S\n",
    "\n",
    "Output Format: \n",
    "Print lexicographically smallest palindrome after filling each '.' character, if it\n",
    "possible to construct one. Print -1 otherwise.\n",
    "\n",
    "Example-1\n",
    "\n",
    "Input:\n",
    "a.ba\n",
    "\n",
    "Output:\n",
    "abba\n",
    "\n",
    "\n",
    "Example-2:\n",
    "\n",
    "Input:\n",
    "a.b\n",
    "\n",
    "Output:\n",
    "-1\n",
    "\n",
    "Explanation: \n",
    "In example 1, you can create a palindrome by filling the '.' character by 'b'.\n",
    "In example 2, it is not possible to make the string s a palindrome.\n",
    "\"\"\"\n",
    "x=input()\n",
    "l=[]\n",
    "for i in range(97,123):\n",
    "  l.append(chr(i))\n",
    "n=0\n",
    "while(n<=25):\n",
    "  new=x.replace(\".\",l[n])\n",
    "  if new==new[::-1]:\n",
    "    print(new,end='')\n",
    "    break\n",
    "  new=x\n",
    "  n=n+1\n",
    "else:\n",
    "  print(\"-1\",end=\"\")"
   ]
  },
  {
   "cell_type": "code",
   "execution_count": 22,
   "metadata": {},
   "outputs": [
    {
     "name": "stdout",
     "output_type": "stream",
     "text": [
      "a.ba\n",
      "abba\n"
     ]
    }
   ],
   "source": [
    "numbers = []\n",
    "\n",
    "\n",
    "li = []\n",
    "x = input()\n",
    "li = list(str(x))\n",
    "if(len(li)%2 != 0):\n",
    "    if(li[int(len(li)/2)] == '.'):\n",
    "        li[int(len(li)/2)] = 'a'\n",
    "s=0\n",
    "p=len(li)-1\n",
    "count = 0\n",
    "flag = []\n",
    "while((s < int(len(li)/2)) and (p >= int(len(li)/2))):\n",
    "    if(li[s]!='.' and li[p]!='.'):\n",
    "        if(li[s] == li[p]):\n",
    "            flag.append(1)\n",
    "            count+=1\n",
    "            s += 1\n",
    "            p -= 1\n",
    "        else:                \n",
    "            break\n",
    "    else:\n",
    "        if(li[s]=='.' and li[p]!='.'):\n",
    "            li[s]=li[p]\n",
    "            count+=1\n",
    "            s += 1\n",
    "            p -= 1\n",
    "        else:\n",
    "            if(li[s]!='.' and li[p]=='.'):\n",
    "                li[p]=li[s]\n",
    "                count+=1\n",
    "                s += 1\n",
    "                p -= 1\n",
    "            else:\n",
    "                li[s] = 'a'\n",
    "                li[p] = 'a'\n",
    "                count+=1\n",
    "                s += 1\n",
    "                p -= 1\n",
    "\n",
    "if(count == int(len(li)/2)):\n",
    "    print(''.join(li))\n",
    "else:\n",
    "    print(-1)"
   ]
  },
  {
   "cell_type": "code",
   "execution_count": 23,
   "metadata": {},
   "outputs": [
    {
     "name": "stdout",
     "output_type": "stream",
     "text": [
      "Hello world!\n",
      "1 9"
     ]
    }
   ],
   "source": [
    "\"\"\"\n",
    "Programming Assignment-3: Letters\n",
    "\n",
    "Write a program that accepts a sentence and calculate the number of upper case letters and lower case letters.\n",
    "\n",
    "Input Format:\n",
    "The first line of the input contains a statement.\n",
    "\n",
    "Output Format:\n",
    "Print the number of upper case and lower case respectively separated by a space.\n",
    "\n",
    "Example:\n",
    "\n",
    "Input:\n",
    "Hello world!\n",
    "\n",
    "Output:\n",
    "1 9\n",
    "\"\"\"\n",
    "ip=input()\n",
    "up=0\n",
    "lw=0\n",
    "for i in ip:\n",
    "  if i.islower():\n",
    "    lw+=1\n",
    "  elif i.isupper() :\n",
    "    up+=1\n",
    "print(up,lw,end='')"
   ]
  },
  {
   "cell_type": "code",
   "execution_count": 24,
   "metadata": {},
   "outputs": [
    {
     "name": "stdout",
     "output_type": "stream",
     "text": [
      "Hello world!\n",
      "1 9\n"
     ]
    }
   ],
   "source": [
    "s = input()\n",
    "d={\"UPPER CASE\":0, \"LOWER CASE\":0}\n",
    "for c in s:\n",
    "    if c.isupper():\n",
    "        d[\"UPPER CASE\"]+=1\n",
    "    elif c.islower():\n",
    "        d[\"LOWER CASE\"]+=1\n",
    "    else:\n",
    "        pass\n",
    "print(d['UPPER CASE'],d['LOWER CASE'])"
   ]
  },
  {
   "cell_type": "code",
   "execution_count": 25,
   "metadata": {},
   "outputs": [
    {
     "name": "stdout",
     "output_type": "stream",
     "text": [
      "5 3 2\n",
      "2 5 2 6 3\n",
      "3"
     ]
    }
   ],
   "source": [
    "\"\"\"\n",
    "SET-1: Choosing Balls\n",
    "\n",
    "There are N balls in a row numbered 1 to N from left to right. For each ball i, Bi represents its size. You are initially on the leftmost ball (ball number 1). You can make an arbitrary number of choices (including zero) as long as the following conditions are satisfied:\n",
    "\n",
    "\n",
    "You can only choose a ball which is next to the current ball i.e. from ith ball, you can choose i+1th ball i.e. next right (if exists).\n",
    "\n",
    "It’s always possible to choose a ball with the same size as the current ball.\n",
    "\n",
    "It’s possible to choose a ball if its size is larger than the current ball by no more than U.\n",
    "\n",
    "It’s possible to choose a ball if its size is smaller than the current ball by no more than D.\n",
    "\n",
    "You have one special choice where you can choose a smaller ball regardless of its size (as long as it is smaller than the current ball). This choice is available at most one time.\n",
    "\n",
    "\n",
    "Your task is to choose the highest indexed ball. Determine the index of the rightmost ball you can reach.\n",
    "\n",
    "\n",
    "Input Format:\n",
    "\n",
    "The first line of the input contains three space-separated integers N, U, and D\n",
    "\n",
    "The second line contains N space-separated integers B1, B2, …, BN.\n",
    "\n",
    "\n",
    "Output Format:\n",
    "\n",
    "Print a single line containing one integer -- the index of the rightmost reachable ball.\n",
    "\n",
    "\n",
    "Constraints:\n",
    "\n",
    "1<= N <=100\n",
    "1<=U, D<=1,00,000\n",
    "1<= Bi <=1,00,000\n",
    "\n",
    "Example:\n",
    "\n",
    "Input:\n",
    "5 3 2\n",
    "2 5 2 6 3\n",
    "\n",
    "Output:\n",
    "3\n",
    "\n",
    "Explanation:\n",
    "You can choose second ball because it's larger by no more than U=3 than first ball, to choose third ball, you have to use your special choice because it's smaller than second hill by 3 which is more than D=2. You can't choose fourth ball because it's larger than the third ball by 4 which is more than U=3.\n",
    "\"\"\"\n",
    "n,u,d=map(int,input().split())\n",
    "l=list(map(int,input().split()))\n",
    "sc=0\n",
    "idx=0\n",
    "for i in range(n-1):\n",
    "  if l[i]==l[i+1]:\n",
    "    idx=i+1\n",
    "  elif l[i+1]>l[i]:\n",
    "    if l[i+1]-l[i]<=u:\n",
    "      idx=i+1\n",
    "    else:\n",
    "      break\n",
    "  else:\n",
    "    if l[i]-l[i+1]<=d:\n",
    "      idx=i+1\n",
    "    else:\n",
    "      if sc==0:\n",
    "        idx=i+1\n",
    "        sc=sc+1\n",
    "      else:\n",
    "        break\n",
    "print(idx+1,end=\"\")"
   ]
  },
  {
   "cell_type": "code",
   "execution_count": 26,
   "metadata": {},
   "outputs": [
    {
     "name": "stdout",
     "output_type": "stream",
     "text": [
      "5 3 2\n",
      "2 5 2 6 3\n",
      "3\n"
     ]
    }
   ],
   "source": [
    "n=input()\n",
    "list=n.split(\" \")\n",
    "le=int(list[0])\n",
    "U=int(list[1])\n",
    "D=int(list[2])\n",
    "#print(U)\n",
    "#print(D)\n",
    "count=0\n",
    "seq=input().split(' ')\n",
    "#print(seq)\n",
    "f=0\n",
    "for i in range(0,le-1):\n",
    "    if (0<=(int(seq[i])-int(seq[i+1]))<=D)or (0<=(int(seq[i+1])-int(seq[i]))<=U):\n",
    "        #print(int(seq[i]))\n",
    "        count+=1\n",
    "        #print(count)\n",
    "    elif ((int(seq[i])-int(seq[i+1]))>0):\n",
    "        f=1\n",
    "        count+=1\n",
    "        break\n",
    "    else:\n",
    "        break\n",
    "    i+=1\n",
    "if(f==1):\n",
    "    for j in range(i+1,le-1):\n",
    "        if (-U<=(int(seq[j])-int(seq[j+1]))<=D):\n",
    "            count+=1\n",
    "        else:\n",
    "            break\n",
    "        i+=1\n",
    "print(count+1)  "
   ]
  },
  {
   "cell_type": "code",
   "execution_count": null,
   "metadata": {},
   "outputs": [],
   "source": [
    "\"\"\"\n",
    "SET-2: Friends on Facebook\n",
    "\n",
    " In this course we have tested your intelligence based on your programming capabilities. Here is a mathematical puzzle that you can solve using your programming abilities (if possible).\n",
    "\n",
    "\n",
    "There are N people P1, P2, P3, …, PN having F1, F2, F3, …, FN Facebook friends, respectively. The solution to this problem is finding k = Fi%Fj such that it is maximum over all valid i,j. \n",
    "\n",
    "\n",
    "Constraints:\n",
    "\n",
    "2 <= N <= 105\n",
    "\n",
    "1 <= Ai <= 109 for each i\n",
    "\n",
    "\n",
    "\n",
    "Input Format:\n",
    "\n",
    "The first line contains an integer N\n",
    "\n",
    "The second line contains N space-separated integers F1, F2, F3, …, FN\n",
    "\n",
    "\n",
    "\n",
    "Output Format:\n",
    "\n",
    "Print in a single line the output which is k, the solution to this problem.\n",
    "\n",
    "\n",
    "Example:\n",
    "\n",
    "Input:\n",
    "5\n",
    "1 2 3 4 5\n",
    "\n",
    "Output:\n",
    "4\n",
    "\"\"\"\n",
    "n=int(input())\n",
    "frnds = list(map(int,input().split()))\n",
    "max=0\n",
    "for i in frnds:\n",
    "  for j in frnds:\n",
    "    if(i%j>=max):\n",
    "      max=i%j\n",
    "print(max,end=\"\")"
   ]
  },
  {
   "cell_type": "code",
   "execution_count": 1,
   "metadata": {},
   "outputs": [
    {
     "name": "stdout",
     "output_type": "stream",
     "text": [
      "5\n",
      "1 2 3 4 5\n",
      "4\n"
     ]
    }
   ],
   "source": [
    "n = int(input())\n",
    "l  = [int(x) for x in input().split()]\n",
    "m1 = max(l) ; m2 = 0\n",
    "for i in l :\n",
    "    if i >m2 and i <m1:\n",
    "        m2 = i\n",
    "print(m2%m1)"
   ]
  },
  {
   "cell_type": "code",
   "execution_count": 2,
   "metadata": {},
   "outputs": [
    {
     "name": "stdout",
     "output_type": "stream",
     "text": [
      "45\n",
      "3600"
     ]
    }
   ],
   "source": [
    "\"\"\"\n",
    "Programming Assignment 2: Currency Conversion\n",
    "\n",
    "Write a program that takes an amount in Indian Rupees as input. You need to find its equivalent in Euro and display it. Assume 1 Rupee equals 80 Euros.  \n",
    "\n",
    "Please note that you are expected to stick to the given input and output format as in sample test cases. Please don't add any extra lines such as 'Enter a number', etc.\n",
    "\n",
    "\"\"\"\n",
    "n=int(input())\n",
    "euro=n*80\n",
    "print(euro,end='')"
   ]
  },
  {
   "cell_type": "code",
   "execution_count": 3,
   "metadata": {},
   "outputs": [
    {
     "name": "stdout",
     "output_type": "stream",
     "text": [
      "45\n",
      "3600\n"
     ]
    }
   ],
   "source": [
    "a=int(input())\n",
    "print(a*80)"
   ]
  },
  {
   "cell_type": "code",
   "execution_count": 4,
   "metadata": {},
   "outputs": [
    {
     "name": "stdout",
     "output_type": "stream",
     "text": [
      "23\n",
      "7\n",
      "Loss\n"
     ]
    }
   ],
   "source": [
    "\"\"\"\n",
    "Programming Assignment 3: Profit or Loss\n",
    "\n",
    "Write a program that takes cost price and selling price as input and displays whether the transaction is a Profit or a Loss or Neither.\n",
    "\n",
    "INPUT FORMAT\n",
    "The first line contains the cost price.\n",
    "The second line contains the selling price.\n",
    "\n",
    "OUTPUT FORMAT\n",
    "Print \"Profit\" if the transaction is a profit or \"Loss\" if it is a loss. If it is neither profit nor loss, print \"Neither\". (You must not have quotes in your output)\n",
    "\n",
    "NOTE\n",
    "Please stick to the input and output format. Don't add anything extra like 'Enter cost price', 'Enter selling price', etc.\n",
    "\"\"\"\n",
    "c=int(input())\n",
    "s=int(input())\n",
    "if(c<s):\n",
    "    print(\"Profit\")\n",
    "if(c>s):\n",
    "    print(\"Loss\")\n",
    "if(c==s):\n",
    "    print(\"Neither\")"
   ]
  },
  {
   "cell_type": "code",
   "execution_count": 5,
   "metadata": {},
   "outputs": [
    {
     "name": "stdout",
     "output_type": "stream",
     "text": [
      "24\n",
      "21\n",
      "35\n",
      "41\n",
      "52\n",
      "34.6\n"
     ]
    }
   ],
   "source": [
    "\"\"\"\n",
    "Programming Assignment 1 : Average\n",
    "\n",
    "Given the marks of five subjects, you have to calculate and print the average of the total marks.\n",
    "\n",
    "Input:\n",
    "\n",
    "Marks of different subjects in new line.\n",
    "\n",
    "Output:\n",
    "\n",
    "output the average number\n",
    "\n",
    "Example:\n",
    "\n",
    "Input:\n",
    "\n",
    "24\n",
    "21\n",
    "35\n",
    "41\n",
    "52\n",
    "\n",
    "Output:\n",
    "34.6\n",
    "\n",
    "Explanation :  The marks are s1 = 24, s2 = 21, s3 = 35, s4 = 41, s5 = 52, hence the average is 34.6\n",
    "\"\"\"\n",
    "sum = 0\n",
    "for i in range(5):\n",
    "    x = int(input())\n",
    "    sum = sum+x\n",
    "\n",
    "num = sum/5\n",
    "\n",
    "print(num)"
   ]
  },
  {
   "cell_type": "code",
   "execution_count": 6,
   "metadata": {},
   "outputs": [
    {
     "name": "stdout",
     "output_type": "stream",
     "text": [
      "2 6\n",
      "3\n",
      "4\n",
      "5\n",
      "6\n"
     ]
    }
   ],
   "source": [
    "\"\"\"\n",
    "Programming Assignment 2 : List Slicing\n",
    "\n",
    "You have seen in videos how list slicing is performed in python. If not please refer to this link List Slicing.\n",
    "\n",
    "\n",
    "In this program, create a list of numbers from 1 to 50 named list_1. The numbers should be present in the increasing order: Ex list_1 = [1,2,3,4,5,....,50]\n",
    "\n",
    "i.e. index zero should be 1, index one should be 2, index two should be 3 and so on.\n",
    "\n",
    "\n",
    "Given an input of two numbers, let's say a and b, you have to print the numbers returned by the following command\n",
    "\n",
    "list_1[a:b] \n",
    "\n",
    "\n",
    "Input:\n",
    "\n",
    "The first line of input contains two numbers a and b separated by a space.\n",
    "\n",
    "\n",
    "NOTE: You can take two inputs in a single line using the following command:\n",
    "\n",
    "a, b = input().split()\n",
    "\n",
    "\n",
    "Make sure you convert the strings in a and b into integers using the int() command\n",
    "\n",
    "\n",
    "Output:\n",
    "\n",
    "Print the numbers in new line\n",
    "\n",
    "\n",
    "Example :\n",
    "\n",
    "\n",
    "Input:\n",
    "2 6\n",
    "\n",
    "Output:\n",
    "\n",
    "3\n",
    "\n",
    "4\n",
    "\n",
    "5\n",
    "\n",
    "6\n",
    "\n",
    "\n",
    "Explanation: In this example, a is 2 and b is 6. The list_1 contains numbers from 1 to 50. When you perform the operation list_1[a:b] which in this case is, list_1[2:6], it returns a list of following numbers [3, 4, 5, 6]. Print the elements of this list with each element in a new line.\n",
    "\n",
    "\n",
    "\"\"\"\n",
    "a, b = input().split()\n",
    "a=int(a)\n",
    "b=int(b)\n",
    "list_1=[]\n",
    "for i in range(1,51):\n",
    "  list_1.append(i)\n",
    "for i in list_1[a:b]:\n",
    "  print(i,end='\\n')\n"
   ]
  },
  {
   "cell_type": "code",
   "execution_count": 7,
   "metadata": {},
   "outputs": [
    {
     "name": "stdout",
     "output_type": "stream",
     "text": [
      "2 6\n",
      "3\n",
      "4\n",
      "5\n",
      "6\n"
     ]
    }
   ],
   "source": [
    "l = []\n",
    "\n",
    "for i in range(1,51):\n",
    "    l.append(i)\n",
    "\n",
    "a, b = input().split()\n",
    "\n",
    "a = int(a)\n",
    "b = int(b)\n",
    "\n",
    "x = l[a:b]\n",
    "\n",
    "for i in x:\n",
    "    print(i)"
   ]
  },
  {
   "cell_type": "code",
   "execution_count": 8,
   "metadata": {},
   "outputs": [
    {
     "name": "stdout",
     "output_type": "stream",
     "text": [
      "24\n",
      "1"
     ]
    }
   ],
   "source": [
    "\"\"\"\n",
    "Programming Assignment 3 : Divisibility\n",
    "\n",
    "In this program, create a list of numbers from 1 to 50 named list_1. The numbers should be present in the increasing order: Ex list_1 = [1,2,3,4,5,....,50]\n",
    "\n",
    "i.e. index zero should be 1, index one should be 2, index two should be 3 and so on.\n",
    "\n",
    "\n",
    "Given an input let's say a, you have to print the number of elements of list_1 which are divisible by a,  excluding the element which is equal to a.\n",
    "\n",
    "Input:\n",
    "Number a\n",
    "\n",
    "Output:\n",
    "In a single line, the number of elements (i.e. the count and not the elements) which are divisible by a.\n",
    "\n",
    "Example:\n",
    "Input:\n",
    "\n",
    "24\n",
    "\n",
    "Output:\n",
    "1\n",
    "\n",
    "Explanation: Since there is only one number, i.e. 48 which is divisible by 24 and is in the list_1. We have to exclude the element 24 of list_1 because it is equal to the input.\n",
    "\"\"\"\n",
    "a=int(input())\n",
    "list_1=[]\n",
    "for i in range(1,51):\n",
    "  list_1.append(i)\n",
    "m=0\n",
    "for i in range(a,50):\n",
    "  if list_1[i]%a==0:\n",
    "    m=m+1\n",
    "print(m,end='')"
   ]
  },
  {
   "cell_type": "code",
   "execution_count": 9,
   "metadata": {},
   "outputs": [
    {
     "name": "stdout",
     "output_type": "stream",
     "text": [
      "24\n",
      "1\n"
     ]
    }
   ],
   "source": [
    "l = []\n",
    "\n",
    "for i in range(1,51):\n",
    "    l.append(i)\n",
    "\n",
    "a= int(input())\n",
    "\n",
    "a = int(a)\n",
    "\n",
    "count = 0\n",
    "\n",
    "for i in l:\n",
    "    if(i%a==0 and i!=a):\n",
    "        count+=1\n",
    "\n",
    "print(count)"
   ]
  },
  {
   "cell_type": "code",
   "execution_count": 10,
   "metadata": {},
   "outputs": [
    {
     "name": "stdout",
     "output_type": "stream",
     "text": [
      "3 4\n",
      "1 2 3 4\n",
      "5 6 7 8\n",
      "9 10 11 12"
     ]
    }
   ],
   "source": [
    "\"\"\"\n",
    "Programming Assignments 1: Matrix\n",
    "\n",
    "You saw how to create Magic Square of different sizes. It is very important to understand the way the matrices are represented and printed in python.\n",
    "In this assignment, you will be provided with the number of rows i.e. r and columns i.e. c as the input and your job is to create a matrix of size rxc.\n",
    "Also, the matrix should have elements starting from 1 to rxc with an increment of one in row manner.\n",
    "\n",
    "Example:\n",
    "\n",
    "if r = 2 and c = 3\n",
    "then the output is\n",
    "\n",
    "1 2 3\n",
    "4 5 6\n",
    "\n",
    "Input Format:\n",
    "Two numbers r and c in a single line separated by a space.\n",
    "\n",
    "Output Format:\n",
    "Elements of the generated matrix.\n",
    "Each row should be printed in a new line with each element separated by a space.\n",
    "\n",
    "Example:\n",
    "\n",
    "Input:\n",
    "3 4\n",
    "\n",
    "Output:\n",
    "1 2 3 4\n",
    "5 6 7 8\n",
    "9 10 11 12\n",
    "\n",
    "Explanation: \n",
    "In this example the number of rows i.e. r is 3 and the number of columns is i.e. c is 4. \n",
    "Therefore the size of the matrix is 3x4 which is 12. Which means it should have 12 elements starting from 1.\n",
    "It should be printed in row manner i.e. the first element should be at the first row and first column, second element at first row and second column and so on.\n",
    "\n",
    "NOTE: There should not be any extra space after the elements of the last column and no extra newline after the last row of the matrix.\n",
    "\"\"\"\n",
    "a,b=map(int,input().split())\n",
    "\n",
    "count=1\n",
    "m = []\n",
    "for i in range(1,a+1):\n",
    "    l = []\n",
    "    for j in range(1,b+1):\n",
    "        l.append(count)\n",
    "        count+=1\n",
    "    m.append(l)\n",
    "\n",
    "for i in range(a):\n",
    "    for j in range(b):\n",
    "        if(j==b-1):\n",
    "            print(m[i][j], end=\"\")\n",
    "        else:\n",
    "            print(m[i][j], end=\" \")\n",
    "    if(i!=a-1):\n",
    "        print()"
   ]
  },
  {
   "cell_type": "code",
   "execution_count": 11,
   "metadata": {},
   "outputs": [
    {
     "name": "stdout",
     "output_type": "stream",
     "text": [
      "4\n",
      "3\n",
      "1\n",
      "2\n",
      "5\n",
      "1 2 3 5"
     ]
    }
   ],
   "source": [
    "\"\"\"\n",
    "Programming Assignment 3: Order in Randomness\n",
    "\n",
    "You all have used the random library of python. You have seen in the screencast how powerful it is.\n",
    "In this assignment, you will sort a list let's say list_1 of numbers in increasing order using the random library.\n",
    "\n",
    "Following are the steps to sort the numbers using the random library.\n",
    "\n",
    "Step 1: Import the randint definition of the random library of python. Check this page if you want some help.\n",
    "\n",
    "Step 2: Take the elements of the list_1 as input.\n",
    "\n",
    "Step 3: randomly choose two indexes i and j within the range of the size of list_1.\n",
    "\n",
    "Step 4: Swap the elements present at the indexes i and j. After doing this, check whether the list_1 is sorted or not.\n",
    "\n",
    "Step 5: Repeat step 3 and 4 until the array is not sorted.\n",
    "\n",
    "Input Format:\n",
    "The first line contains a single number n which signifies the number of elements in the list_1.\n",
    "From the second line, the elements of the list_1 are given with each number in a new line.\n",
    "\n",
    "Output Format:\n",
    "Print the elements of the list_1 in a single line with each element separated by a space. \n",
    "NOTE 1: There should not be any space after the last element.\n",
    "\n",
    "Example:\n",
    "\n",
    "Input:\n",
    "4\n",
    "3\n",
    "1\n",
    "2\n",
    "5\n",
    "\n",
    "Output:\n",
    "1 2 3 5\n",
    "\n",
    "Explanation: \n",
    "The first line of the input is 4. Which means that n is 4, or the number of elements in list_1 is 4. The elements of list_1 are 3, 1, 2, 5 in this order.\n",
    "The sorted version of this list is 1 2 3 5, which is the output.\n",
    "\n",
    "NOTE 2: There are many ways to sort the elements of a list. The purpose of this assignment is to show the power of randomness, and obviously the Joy.\n",
    "\"\"\"\n",
    "n=int(input())\n",
    "list_1=[]\n",
    "for i in range(n):\n",
    "  list_1.append(int(input()))\n",
    "list_2=[]\n",
    "while list_1:\n",
    "  min=list_1[0]\n",
    "  for x in list_1:\n",
    "    if x<min:\n",
    "      min=x\n",
    "  list_2.append(min)\n",
    "  list_1.remove(min)\n",
    "sarr=[str(a) for a in list_2]\n",
    "print(' '.join(sarr),end='')"
   ]
  },
  {
   "cell_type": "code",
   "execution_count": 12,
   "metadata": {},
   "outputs": [
    {
     "name": "stdout",
     "output_type": "stream",
     "text": [
      "4\n",
      "3\n",
      "1\n",
      "2\n",
      "5\n",
      "1 2 3 5\n"
     ]
    }
   ],
   "source": [
    "from random import randint\n",
    "n = int(input())\n",
    "arr = []\n",
    "for i in range(n):\n",
    "    x = int(input())\n",
    "    arr.append(x)\n",
    "\n",
    "sorted = True\n",
    "\n",
    "while(sorted):\n",
    "    j = randint(0,n-1)\n",
    "    i = randint(0,n-1)\n",
    "    arr[i],arr[j] = arr[j],arr[i]\n",
    "    for k in range(0,n-1):\n",
    "        if (arr[k] > arr[k+1]):\n",
    "            sorted = False\n",
    "    \n",
    "    if(sorted):\n",
    "        break\n",
    "    else:\n",
    "        sorted = True\n",
    "\n",
    "for i in range(n):\n",
    "    if(i==n-1):\n",
    "        print(arr[i])\n",
    "    else:\n",
    "        print(arr[i],end=\" \")"
   ]
  },
  {
   "cell_type": "code",
   "execution_count": 13,
   "metadata": {},
   "outputs": [
    {
     "name": "stdout",
     "output_type": "stream",
     "text": [
      "5\n",
      "DOWN 3\n",
      "UP 4\n",
      "LEFT 6\n",
      "RIGHT 3\n",
      "LEFT 1\n",
      "4\n"
     ]
    }
   ],
   "source": [
    "\"\"\"\n",
    "Programming Assignment 2: Robot and the Charger\n",
    "\n",
    "There is a robot which wants to go the charging point to charge itself. \n",
    "The robot moves in a 2-D plane from the original point (0,0). \n",
    "The robot can move toward UP, DOWN, LEFT and RIGHT with given steps. \n",
    "The trace of robot movement is shown as the following: UP 5 DOWN 3 LEFT 3 RIGHT 2 Then, the output of the program should be:\n",
    "2 The numbers after the direction are steps. Write a program to compute the distance between the current position after a sequence of movement and original point.\n",
    "If the distance is a float, then just print the nearest integer (use round() function for that and then convert it into an integer). Input Format: The first line of the input contains a number n which implies the number of directions to be given.\n",
    "The next n lines contain the direction and the step separated by a space. Output Format: Print the distance from the original position to the current position. Example: Input: 4 UP 5 DOWN 3 LEFT 3 RIGHT 2 Output: 2 Explanation: After the movements, the robot is at the position (-1, 2). \n",
    "Distance from the (0, 0) to the point (-1, 2) is calculated using Euclidean distance. The round value of which is 2.0, and int value is 2. NOTE: Import math library and use the sqrt() function of the math library to compute the Euclidean distance.\n",
    "\"\"\"\n",
    "import math\n",
    "pos = [0,0]\n",
    "n = int(input())\n",
    "for i in range(n):\n",
    "    s = input()\n",
    "    movement = s.split(\" \")\n",
    "    direction = movement[0]\n",
    "    steps = int(movement[1])\n",
    "    if direction==\"UP\":\n",
    "        pos[0]+=steps\n",
    "    elif direction==\"DOWN\":\n",
    "        pos[0]-=steps\n",
    "    elif direction==\"LEFT\":\n",
    "        pos[1]-=steps\n",
    "    elif direction==\"RIGHT\":\n",
    "        pos[1]+=steps\n",
    "    else:\n",
    "        pass\n",
    "\n",
    "print(int(round(math.sqrt(pos[1]**2+pos[0]**2))))"
   ]
  },
  {
   "cell_type": "code",
   "execution_count": 14,
   "metadata": {},
   "outputs": [
    {
     "name": "stdout",
     "output_type": "stream",
     "text": [
      "4\n",
      "{1: 1, 2: 4, 3: 9, 4: 16}\n"
     ]
    }
   ],
   "source": [
    "\"\"\"\n",
    "Programming Assignment 1: Dictionary\n",
    "\n",
    "You have seen in the videos that how powerful dictionary data structure is.\n",
    "In this assignment, given a number n, you have to write a program that generates a dictionary d which contains (i, i*i), where i is from 1 to n (both included).\n",
    "Then you have to just print this dictionary d.\n",
    "\n",
    "Example:\n",
    "Input: 4\n",
    "\n",
    "will give output as\n",
    "{1: 1, 2: 4, 3: 9, 4: 16}\n",
    "\n",
    "Input Format:\n",
    "Take the number n in a single line.\n",
    "\n",
    "Output Format:\n",
    "Print the dictionary d in a single line.\n",
    "\n",
    "\n",
    "Example:\n",
    "\n",
    "Input:\n",
    "8\n",
    "\n",
    "Output:\n",
    "{1: 1, 2: 4, 3: 9, 4: 16, 5: 25, 6: 36, 7: 49, 8: 64}\n",
    "\n",
    "Explanation:\n",
    "\n",
    "Here n is 8, we will start from i=1, hence the first element of the dictionary is (1: 1), as i becomes 2, the second element of the dictionary becomes (2: 4) and so on.\n",
    "Hence the output will be {1: 1, 2: 4, 3: 9, 4: 16, 5: 25, 6: 36, 7: 49, 8: 64}.\n",
    "\"\"\"\n",
    "n=int(input())\n",
    "d=dict()\n",
    "for i in range(1,n+1):\n",
    "    d[i]=i*i\n",
    "\n",
    "print(d)"
   ]
  },
  {
   "cell_type": "code",
   "execution_count": 15,
   "metadata": {},
   "outputs": [
    {
     "name": "stdout",
     "output_type": "stream",
     "text": [
      "4\n",
      "1\n",
      "1 2\n",
      "1 2 3\n",
      "1 2 3 4"
     ]
    }
   ],
   "source": [
    "\"\"\"\n",
    "Programming Assignment 1: Printing Pattern\n",
    "\n",
    "In this assignment, you have to write a program to print a pattern of numbers.\n",
    "The input should be the number of rows.\n",
    "Your program should print this pattern where the first row contains only one element i.e 1.\n",
    "The second row should contain two elements i.e. 1 and 2 separated by a space.\n",
    "The third row should contain three elements i.e. 1, 2 and 3 separated by a space.\n",
    "\n",
    "Input Format:\n",
    "The first line of the input contains a number n which represents the number of rows.\n",
    "\n",
    "Output Format:\n",
    "There should be n rows with each row containing a list of numbers according to the pattern.\n",
    "\n",
    "Example-1:\n",
    "\n",
    "Input:\n",
    "3\n",
    "\n",
    "Output:\n",
    "1\n",
    "1 2\n",
    "1 2 3\n",
    "\n",
    "Example-2:\n",
    "\n",
    "Input:\n",
    "4\n",
    "\n",
    "Output:\n",
    "1\n",
    "1 2\n",
    "1 2 3\n",
    "1 2 3 4\n",
    "\n",
    "Explanation: In the first example the input was 3. Hence there are 3 rows. The first row has element 1. The second row contains two elements 1 and 2 and the third row contains 1, 2 and 3 separated by a space.\n",
    "\n",
    "NOTE: There should not be any space after the each element of the last column and no new line after the last row.\"\"\"\n",
    "r=int(input())\n",
    "l=[]\n",
    "for i in range(1,r+1):\n",
    "  if i==r:\n",
    "    print(*l,i,end='')\n",
    "  else:\n",
    "    print(*l,i)\n",
    "  l.append(i)"
   ]
  },
  {
   "cell_type": "code",
   "execution_count": 16,
   "metadata": {},
   "outputs": [
    {
     "name": "stdout",
     "output_type": "stream",
     "text": [
      "5\n",
      "1\n",
      "1 2\n",
      "1 2 3\n",
      "1 2 3 4\n",
      "1 2 3 4 5"
     ]
    }
   ],
   "source": [
    "def numpat(n):\n",
    "     \n",
    "    # initialising starting number \n",
    "    num = 1\n",
    " \n",
    "    # outer loop to handle number of rows\n",
    "    for i in range(0, n):\n",
    "     \n",
    "        # re assigning num\n",
    "        num = 1\n",
    "     \n",
    "        # inner loop to handle number of columns\n",
    "            # values changing acc. to outer loop\n",
    "        for j in range(0, i+1):\n",
    "         \n",
    "                # printing number\n",
    "            if(j==i):\n",
    "                print(num, end=\"\")\n",
    "            else:\n",
    "                print(num, end=\" \")\n",
    "         \n",
    "            # incrementing number at each column\n",
    "            num = num + 1\n",
    "     \n",
    "        # ending line after each row\n",
    "        if(i!=n-1):\n",
    "            print()\n",
    " \n",
    "# Driver code\n",
    "n = int(input())\n",
    "numpat(n)\n"
   ]
  },
  {
   "cell_type": "code",
   "execution_count": 17,
   "metadata": {},
   "outputs": [
    {
     "name": "stdout",
     "output_type": "stream",
     "text": [
      "48\n",
      "3\n"
     ]
    }
   ],
   "source": [
    "\"\"\"\n",
    "Programming Assignment 1: Repeat\n",
    "\n",
    "Write a Python program to add the digits of a positive integer repeatedly until the result has a single digit.\n",
    "\n",
    "Input Format:\n",
    "The first line of the input contains a number n.\n",
    "\n",
    "Output:\n",
    "Print the resultant number\n",
    "\n",
    "Example:\n",
    "Input:\n",
    "48\n",
    "\n",
    "Output:\n",
    "3\n",
    "\n",
    "Explanation: If you add digits 4 and 8, you will get 12. Again adding 1 and 2 will give 3 which is a single digit and hence the answer.\n",
    "\"\"\"\n",
    "def add_digits(num):\n",
    "        return (num - 1) % 9 + 1 if num > 0 else 0\n",
    "\n",
    "num = int(input())\n",
    "print(add_digits(num))"
   ]
  },
  {
   "cell_type": "code",
   "execution_count": null,
   "metadata": {},
   "outputs": [],
   "source": []
  }
 ],
 "metadata": {
  "kernelspec": {
   "display_name": "Python 3",
   "language": "python",
   "name": "python3"
  },
  "language_info": {
   "codemirror_mode": {
    "name": "ipython",
    "version": 3
   },
   "file_extension": ".py",
   "mimetype": "text/x-python",
   "name": "python",
   "nbconvert_exporter": "python",
   "pygments_lexer": "ipython3",
   "version": "3.7.3"
  }
 },
 "nbformat": 4,
 "nbformat_minor": 2
}
